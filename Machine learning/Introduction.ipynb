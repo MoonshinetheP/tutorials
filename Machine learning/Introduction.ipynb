{
 "cells": [
  {
   "attachments": {},
   "cell_type": "markdown",
   "metadata": {},
   "source": [
    "# Machine Learning for Data Science - Introduction"
   ]
  },
  {
   "attachments": {},
   "cell_type": "markdown",
   "metadata": {},
   "source": [
    "### Uses of Machine Learning on Data Science\n",
    "\n",
    "Machine Learning has applications for\n",
    "\n",
    "- disease indentification\n",
    "- route optimisation\n",
    "- recommendation systems\n",
    "\n",
    "Data Science involves dealing with huge amounts of data and using Machine Learning to find trends in this data."
   ]
  },
  {
   "attachments": {},
   "cell_type": "markdown",
   "metadata": {},
   "source": [
    "First we will cover the aspects needed for Data Science. Later, the implementation of Machine Learning is made with supervised and unsupervised models."
   ]
  },
  {
   "attachments": {},
   "cell_type": "markdown",
   "metadata": {},
   "source": [
    "You will need statistics, programming, and visualisation techniques to deal with the data. Data Science can feature data from marketing, engineering studies, medical settings, or pure science."
   ]
  },
  {
   "attachments": {},
   "cell_type": "markdown",
   "metadata": {},
   "source": [
    "- Machine Learning Specialists focus on Machine Learning, predictive analytics, creating models and algorithms, and answering questions at scale.\n",
    "- Analytics Specialists focus on answering questions with data, communicating results, and driving decision making.\n",
    "- Inference Specialists focus on finding out why something happened with causal inference, conducting hypothesis tests, and A/B tests, and validating results statistically.\n",
    "- Natural Language Processing Specialists focus on getting meaning out of texts, generating human-like text, and interacting with computers for Artificial Intelligence."
   ]
  },
  {
   "attachments": {},
   "cell_type": "markdown",
   "metadata": {},
   "source": [
    "We will cover some aspects of Python and SQL, as well as looking at statistics and data handling practice. Later we will mnipulate data using Pandas and visualise the data."
   ]
  },
  {
   "attachments": {},
   "cell_type": "markdown",
   "metadata": {},
   "source": [
    "You will be able to:\n",
    "- Create programs with Python 3\n",
    "- Query and manipulate data with SQL and Python pandas\n",
    "- Create data visualizations with Python matplotlib and seaborn\n",
    "- Summarize and analyze datasets\n",
    "- Conduct hypothesis testing\n",
    "- Design experiments\n",
    "- Clean and tidy datasets\n",
    "- Build, train, and test supervised and unsupervised machine learning models\n",
    "- Evaluate model performance\n",
    "- Decide when to apply a given model\n",
    "- Conduct Feature Engineering\n",
    "- Leverage Jupyter Notebooks for experimentation and communication"
   ]
  }
 ],
 "metadata": {
  "language_info": {
   "name": "python"
  },
  "orig_nbformat": 4
 },
 "nbformat": 4,
 "nbformat_minor": 2
}
