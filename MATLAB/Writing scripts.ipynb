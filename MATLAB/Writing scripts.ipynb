{
 "cells": [
  {
   "attachments": {},
   "cell_type": "markdown",
   "metadata": {},
   "source": [
    "# Introduction to MATLAB - writing scripts"
   ]
  },
  {
   "attachments": {},
   "cell_type": "markdown",
   "metadata": {},
   "source": [
    "There are three windows by default on MATLAB\n",
    "- the command prompt - where variables are made\n",
    "- the workspace - where variables are stored\n",
    "- the current folder - where all files are kept"
   ]
  },
  {
   "attachments": {},
   "cell_type": "markdown",
   "metadata": {},
   "source": [
    "Often we need multiple commands and so it is easier to put them all together in a live script. You can enter commands and switch to text mode to add descriptions. Clicking the run button evaluates all the commands in order. You can change the outlook of the workspace so that variable answers are stored on right or under the variable. You can also click on a variable to highlight the answer in the workspace and vice versa. You can also break the script into sections, allowing ou to run a portion of code at a time (click run section)"
   ]
  },
  {
   "attachments": {},
   "cell_type": "markdown",
   "metadata": {},
   "source": [
    "Save the document and share with other MATLAB users, or save as static PDF or HTML documnet if the other users do not have MATLAB"
   ]
  },
  {
   "attachments": {},
   "cell_type": "markdown",
   "metadata": {},
   "source": [
    "Errors in the script will prevent it from running. An error status indicator will be shown in the top right of the cell which contains an error, and the issue will be underlined in red. A description of the error is  given by hovering over the indicator or the code"
   ]
  },
  {
   "attachments": {},
   "cell_type": "markdown",
   "metadata": {},
   "source": [
    "You can also get a warning indicator informing you of possible errors or opportunities to improve code."
   ]
  }
 ],
 "metadata": {
  "language_info": {
   "name": "python"
  },
  "orig_nbformat": 4
 },
 "nbformat": 4,
 "nbformat_minor": 2
}
