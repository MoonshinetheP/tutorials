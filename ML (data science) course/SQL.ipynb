{
 "cells": [
  {
   "attachments": {},
   "cell_type": "markdown",
   "metadata": {},
   "source": [
    "# Machine Learning for Data Science - SQL"
   ]
  },
  {
   "attachments": {},
   "cell_type": "markdown",
   "metadata": {},
   "source": [
    "SQL stands for Structured Query Language, and is a way to access databases."
   ]
  },
  {
   "attachments": {},
   "cell_type": "markdown",
   "metadata": {},
   "source": [
    "Databases are sets of data stored in computers, usually with tabular formatting."
   ]
  },
  {
   "attachments": {},
   "cell_type": "markdown",
   "metadata": {},
   "source": [
    "SQL allows you to write queries defining the subset of data you are looking for (similar to filtering and sorting on Excel)"
   ]
  },
  {
   "attachments": {},
   "cell_type": "markdown",
   "metadata": {},
   "source": [
    "It is basically a programmatic way of managing datasets"
   ]
  },
  {
   "cell_type": "code",
   "execution_count": 1,
   "metadata": {
    "vscode": {
     "languageId": "sql"
    }
   },
   "outputs": [
    {
     "ename": "SyntaxError",
     "evalue": "invalid syntax (3599859399.py, line 1)",
     "output_type": "error",
     "traceback": [
      "\u001b[1;36m  Cell \u001b[1;32mIn[1], line 1\u001b[1;36m\u001b[0m\n\u001b[1;33m    SELECT *\u001b[0m\n\u001b[1;37m            ^\u001b[0m\n\u001b[1;31mSyntaxError\u001b[0m\u001b[1;31m:\u001b[0m invalid syntax\n"
     ]
    }
   ],
   "source": [
    "SELECT *\n",
    "FROM browse\n",
    "LIMIT 10;"
   ]
  },
  {
   "attachments": {},
   "cell_type": "markdown",
   "metadata": {},
   "source": [
    "THis code selects all columns from a database called browse and limit it to the first 10 entries"
   ]
  },
  {
   "cell_type": "code",
   "execution_count": null,
   "metadata": {
    "vscode": {
     "languageId": "sql"
    }
   },
   "outputs": [],
   "source": [
    "SELECT COUNT(DISTINCT user_id) AS 'enrollments',\n",
    "  COUNT(CASE\n",
    "       \tWHEN strftime(\"%m\", cancel_date) = '03'\n",
    "        THEN user_id\n",
    "  END) AS 'march_cancellations',\n",
    " \tROUND(100.0 * COUNT(CASE\n",
    "       \tWHEN strftime(\"%m\", cancel_date) = '03'\n",
    "        THEN user_id\n",
    "  END) / COUNT(DISTINCT user_id)) AS 'churn_rate'\n",
    "FROM pro_users\n",
    "WHERE signup_date < '2017-04-01'\n",
    "\tAND (\n",
    "    (cancel_date IS NULL) OR\n",
    "    (cancel_date > '2017-03-01')\n",
    "  );"
   ]
  },
  {
   "attachments": {},
   "cell_type": "markdown",
   "metadata": {},
   "source": [
    "Here we calculate the churn rate, which is how many people leave a service divided by how many people start a service. We look through all entries in the pro-users database who signed up before April 2017 and were valid members in March 2017. From this we count the list as the total enrolled people, count the cases in whihc people cancelled in March, then calculate churn rate as the percentage of one over the other."
   ]
  }
 ],
 "metadata": {
  "kernelspec": {
   "display_name": "base",
   "language": "python",
   "name": "python3"
  },
  "language_info": {
   "codemirror_mode": {
    "name": "ipython",
    "version": 3
   },
   "file_extension": ".py",
   "mimetype": "text/x-python",
   "name": "python",
   "nbconvert_exporter": "python",
   "pygments_lexer": "ipython3",
   "version": "3.10.9"
  },
  "orig_nbformat": 4
 },
 "nbformat": 4,
 "nbformat_minor": 2
}
