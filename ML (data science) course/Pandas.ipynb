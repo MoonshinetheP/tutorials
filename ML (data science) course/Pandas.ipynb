{
 "cells": [
  {
   "attachments": {},
   "cell_type": "markdown",
   "metadata": {},
   "source": [
    "# Machine Learning for Data Science - Pandas"
   ]
  },
  {
   "attachments": {},
   "cell_type": "markdown",
   "metadata": {},
   "source": [
    "SQL can be used to access databases, but to do something with the data, we need a programming language. One of the easiest to use is Python. "
   ]
  },
  {
   "cell_type": "code",
   "execution_count": null,
   "metadata": {},
   "outputs": [],
   "source": [
    "import codecademylib3_seaborn\n",
    "import pandas as pd\n",
    "\n",
    "# Paste code here:\n",
    "\n",
    "\n",
    "# Load data\n",
    "df = pd.read_csv('page_visits.csv')\n",
    "\n",
    "# Display data\n",
    "print(df.head())"
   ]
  },
  {
   "attachments": {},
   "cell_type": "markdown",
   "metadata": {},
   "source": [
    "Pandas is a Python library that allows some data to be manipulated and read through Python code. In the above code, a Pandas dataframe is made by reading the Excel CSV file. Later the headings and first 5 rows are printed"
   ]
  }
 ],
 "metadata": {
  "language_info": {
   "name": "python"
  },
  "orig_nbformat": 4
 },
 "nbformat": 4,
 "nbformat_minor": 2
}
