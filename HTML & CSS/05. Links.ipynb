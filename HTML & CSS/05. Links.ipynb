{
 "cells": [
  {
   "attachments": {},
   "cell_type": "markdown",
   "metadata": {},
   "source": [
    "# 5. Links\n",
    "---"
   ]
  },
  {
   "attachments": {},
   "cell_type": "markdown",
   "metadata": {},
   "source": [
    "In this lesson, we will learn:\n",
    "- how to add links"
   ]
  },
  {
   "cell_type": "markdown",
   "metadata": {},
   "source": []
  },
  {
   "attachments": {},
   "cell_type": "markdown",
   "metadata": {},
   "source": [
    "Links connect websites to each other. To do so we can add the `<a>` anchor tag"
   ]
  },
  {
   "cell_type": "code",
   "execution_count": null,
   "metadata": {
    "vscode": {
     "languageId": "html"
    }
   },
   "outputs": [],
   "source": [
    "<!DOCTYPE html>\n",
    "<html lang=\"en\">\n",
    "    <head>\n",
    "        <meta charset=\"UTF-8\">\n",
    "        <meta name=\"author\" content=\"Steven Linfield\">\n",
    "        <meta name=\"description\" content=\"This page contains all the things I learn in HTML\">\n",
    "        <title>My first web page</title>\n",
    "        <link rel=\"icon\" href=\"html.png\" type=\"image/x-icon\">\n",
    "        <style>html {\n",
    "            font-size: 22px;\n",
    "        }\n",
    "        \n",
    "        body {\n",
    "            background-color: #82cad8;\n",
    "            color: #c81717;\n",
    "        }</style>\n",
    "    </head>\n",
    "    <body>\n",
    "        <h1>Hello World!</h1>\n",
    "        <p><strong>This is my first web page</strong></p>\n",
    "        <hr>\n",
    "        <h2>I am <em>learning</em> <abbr title=\"HyperText Markup Language\">HTML</abbr></h2>\n",
    "        <p>This is some text I wrote</p>\n",
    "        <ol>\n",
    "            <li> And this also </li>\n",
    "            <li> This too </li>\n",
    "        </ol>\n",
    "        <hr>\n",
    "        <h3>This is a sub sub topic</h3>\n",
    "        <ul>\n",
    "        <li><p>I am writing more &lt; text</p></li>\n",
    "        <li><p>it needs to be done after all</p>\n",
    "        \n",
    "        <!--Need to change address-->\n",
    "        <address>\n",
    "        12 Victoria Terrace<br>\n",
    "        Bath Road<br>  \n",
    "        Paulton<br>\n",
    "        BS39 7NY<br>\n",
    "        </address>\n",
    "        </li>\n",
    "        </ul>\n",
    "        <dl>\n",
    "            <dt>HTML</dt>\n",
    "            <dd>This makes the structure</dd>\n",
    "\n",
    "            <dt>CSS</dt>\n",
    "            <dd>This makes it pretty</dd>\n",
    "        </dl>\n",
    "        <a href=\"https://www.youtube.com\">Click here to go to YouTube</a>\n",
    "    </body>\n",
    "</html>"
   ]
  },
  {
   "attachments": {},
   "cell_type": "markdown",
   "metadata": {},
   "source": [
    "An absolute reference is a link to a full website off our own. When we link to something that is on our page, we give a relative reference (on our own server), for example the link to html.png that is seen in our head"
   ]
  },
  {
   "cell_type": "code",
   "execution_count": null,
   "metadata": {
    "vscode": {
     "languageId": "html"
    }
   },
   "outputs": [],
   "source": [
    "<!DOCTYPE html>\n",
    "<html lang=\"en\">\n",
    "    <head>\n",
    "        <meta charset=\"UTF-8\">\n",
    "        <meta name=\"author\" content=\"Steven Linfield\">\n",
    "        <meta name=\"description\" content=\"This page contains all the things I learn in HTML\">\n",
    "        <title>My first web page</title>\n",
    "        <link rel=\"icon\" href=\"html.png\" type=\"image/x-icon\">\n",
    "        <style>html {\n",
    "            font-size: 22px;\n",
    "        }\n",
    "        \n",
    "        body {\n",
    "            background-color: #82cad8;\n",
    "            color: #c81717;\n",
    "        }</style>\n",
    "    </head>\n",
    "    <body>\n",
    "        <h1>Hello World!</h1>\n",
    "        <p><strong>This is my first web page</strong></p>\n",
    "        <hr>\n",
    "        <h2>I am <em>learning</em> <abbr title=\"HyperText Markup Language\">HTML</abbr></h2>\n",
    "        <p>This is some text I wrote</p>\n",
    "        <ol>\n",
    "            <li> And this also </li>\n",
    "            <li> This too </li>\n",
    "        </ol>\n",
    "        <hr>\n",
    "        <h3>This is a sub sub topic</h3>\n",
    "        <ul>\n",
    "        <li><p>I am writing more &lt; text</p></li>\n",
    "        <li><p>it needs to be done after all</p>\n",
    "        \n",
    "        <!--Need to change address-->\n",
    "        <address>\n",
    "        12 Victoria Terrace<br>\n",
    "        Bath Road<br>  \n",
    "        Paulton<br>\n",
    "        BS39 7NY<br>\n",
    "        </address>\n",
    "        </li>\n",
    "        </ul>\n",
    "        <dl>\n",
    "            <dt>HTML</dt>\n",
    "            <dd>This makes the structure</dd>\n",
    "\n",
    "            <dt>CSS</dt>\n",
    "            <dd>This makes it pretty</dd>\n",
    "        </dl>\n",
    "        <a href=\"https://www.youtube.com\">Click here to go to YouTube</a>\n",
    "        <a href=\"about.html\">Click here to go to relative reference</a>\n",
    "    </body>\n",
    "</html>"
   ]
  },
  {
   "attachments": {},
   "cell_type": "markdown",
   "metadata": {},
   "source": [
    "There is a third type of link, called internal reference, which takes us to another part of the same page we are on. For this we need to split our page into semantic elements called sections. These also need ID's"
   ]
  },
  {
   "cell_type": "code",
   "execution_count": null,
   "metadata": {
    "vscode": {
     "languageId": "html"
    }
   },
   "outputs": [],
   "source": [
    "<!DOCTYPE html>\n",
    "<html lang=\"en\">\n",
    "    <head>\n",
    "        <meta charset=\"UTF-8\">\n",
    "        <meta name=\"author\" content=\"Steven Linfield\">\n",
    "        <meta name=\"description\" content=\"This page contains all the things I learn in HTML\">\n",
    "        <title>My first web page</title>\n",
    "        <link rel=\"icon\" href=\"html.png\" type=\"image/x-icon\">\n",
    "        <style>html {\n",
    "            font-size: 22px;\n",
    "        }\n",
    "        \n",
    "        body {\n",
    "            background-color: #82cad8;\n",
    "            color: #c81717;\n",
    "        }</style>\n",
    "    </head>\n",
    "    <body>\n",
    "        <h1>Hello World!</h1>\n",
    "        <section id=\"Ordered list\">\n",
    "        <p><strong>This is my first web page</strong></p>\n",
    "        <hr>\n",
    "        <h2>I am <em>learning</em> <abbr title=\"HyperText Markup Language\">HTML</abbr></h2>\n",
    "        <p>This is some text I wrote</p>\n",
    "        <ol>\n",
    "            <li> And this also </li>\n",
    "            <li> This too </li>\n",
    "        </ol>\n",
    "        </section>\n",
    "        <hr>\n",
    "        <section id=\"Unordered list\">\n",
    "        <h3>This is a sub sub topic</h3>\n",
    "        <ul>\n",
    "        <li><p>I am writing more &lt; text</p></li>\n",
    "        <li><p>it needs to be done after all</p>\n",
    "        \n",
    "        <!--Need to change address-->\n",
    "        <address>\n",
    "        12 Victoria Terrace<br>\n",
    "        Bath Road<br>  \n",
    "        Paulton<br>\n",
    "        BS39 7NY<br>\n",
    "        </address>\n",
    "        </li>\n",
    "        </ul>\n",
    "        </section>\n",
    "        <section id=\"Descriptive list\">\n",
    "        <dl>\n",
    "            <dt>HTML</dt>\n",
    "            <dd>This makes the structure</dd>\n",
    "\n",
    "            <dt>CSS</dt>\n",
    "            <dd>This makes it pretty</dd>\n",
    "        </dl>\n",
    "        </section>\n",
    "        <section id=\"Links\">\n",
    "        <a href=\"https://www.youtube.com\">Click here to go to YouTube</a>\n",
    "        <a href=\"about.html\">Click here to go to relative reference</a>\n",
    "        </section>\n",
    "    </body>\n",
    "</html>"
   ]
  },
  {
   "attachments": {},
   "cell_type": "markdown",
   "metadata": {},
   "source": [
    "To link we need on more sematic HTML element called `<nav>`. This is basically a menu at the start of the page pointing to other parts of the page. Also, referring to # on its own allows us to go back to the top. We can also use CSS to change the color of the links"
   ]
  },
  {
   "cell_type": "code",
   "execution_count": null,
   "metadata": {
    "vscode": {
     "languageId": "html"
    }
   },
   "outputs": [],
   "source": [
    "<!DOCTYPE html>\n",
    "<html lang=\"en\">\n",
    "    <head>\n",
    "        <meta charset=\"UTF-8\">\n",
    "        <meta name=\"author\" content=\"Steven Linfield\">\n",
    "        <meta name=\"description\" content=\"This page contains all the things I learn in HTML\">\n",
    "        <title>My first web page</title>\n",
    "        <link rel=\"icon\" href=\"html.png\" type=\"image/x-icon\">\n",
    "        <style>html {\n",
    "            font-size: 22px;\n",
    "        }\n",
    "        \n",
    "        body {\n",
    "            background-color: #82cad8;\n",
    "            color: #c81717;\n",
    "        }\n",
    "        \n",
    "        a {\n",
    "            color:aqua;\n",
    "        }\n",
    "\n",
    "        a:visited {\n",
    "            color: darkred;\n",
    "        }\n",
    "\n",
    "        a:hover, a:active {\n",
    "            color: green;\n",
    "        }\n",
    "        </style>\n",
    "    </head>\n",
    "    <body>\n",
    "        <h1>Hello World!</h1>\n",
    "\n",
    "        <nav>\n",
    "            <ul>\n",
    "                <li>\n",
    "                    <a href=\"#Ordered list\">Ordered Lists</a>\n",
    "                </li>\n",
    "                <li>\n",
    "                    <a href=\"#Unordered list\">Unordered Lists</a>\n",
    "                </li>\n",
    "                <li>\n",
    "                    <a href=\"#Descriptive list\">Descriptive Lists</a>\n",
    "                </li>\n",
    "                <li>\n",
    "                    <a href=\"#Links\">Links</a>\n",
    "                </li>\n",
    "            </ul>\n",
    "        </nav>\n",
    "\n",
    "        <section id=\"Ordered list\">\n",
    "        <p><strong>This is my first web page</strong></p>\n",
    "        <hr>\n",
    "        <h2>I am <em>learning</em> <abbr title=\"HyperText Markup Language\">HTML</abbr></h2>\n",
    "        <p>This is some text I wrote</p>\n",
    "        <ol>\n",
    "            <li> And this also </li>\n",
    "            <li> This too </li>\n",
    "        </ol>\n",
    "        </section>\n",
    "        <hr>\n",
    "        <section id=\"Unordered list\">\n",
    "        <h3>This is a sub sub topic</h3>\n",
    "        <ul>\n",
    "        <li><p>I am writing more &lt; text</p></li>\n",
    "        <li><p>it needs to be done after all</p>\n",
    "        \n",
    "        <!--Need to change address-->\n",
    "        <address>\n",
    "        12 Victoria Terrace<br>\n",
    "        Bath Road<br>  \n",
    "        Paulton<br>\n",
    "        BS39 7NY<br>\n",
    "        </address>\n",
    "        </li>\n",
    "        </ul>\n",
    "        </section>\n",
    "        <section id=\"Descriptive list\">\n",
    "        <dl>\n",
    "            <dt>HTML</dt>\n",
    "            <dd>This makes the structure</dd>\n",
    "\n",
    "            <dt>CSS</dt>\n",
    "            <dd>This makes it pretty</dd>\n",
    "        </dl>\n",
    "        </section>\n",
    "        <section id=\"Links\">\n",
    "        <a href=\"https://www.youtube.com\">Click here to go to YouTube</a>\n",
    "        <a href=\"about.html\">Click here to go to relative reference</a>\n",
    "        </section>\n",
    "        <p>\n",
    "            <a href=\"#\">Back to top</a>\n",
    "        </p>\n",
    "    </body>\n",
    "</html>"
   ]
  },
  {
   "attachments": {},
   "cell_type": "markdown",
   "metadata": {},
   "source": [
    "Link text rules\n",
    "1.  Avoid printing full web addresses on the page\n",
    "2.  Avoid saying 'this links to', people already know\n",
    "3.  Keep link text as short as possible\n",
    "4.  No links that say 'click here', is hard for screen readers"
   ]
  },
  {
   "attachments": {},
   "cell_type": "markdown",
   "metadata": {},
   "source": [
    "Add the download attribute to anchor tags to allow downloading of links. We can also link to emails using the 'mailto:'term before an email in the href attribute. Add a callable number by using the 'tel:' term before a phone number in the href attribute. We can also open an absolute reference in a new tab by adding a target attribute in the anchor element and setting it to _blank. Finally setting the href to just / makes us go back to the root page (in this case, it takes us to Tutorials folder, so maybe /HTML tutorials is better)"
   ]
  }
 ],
 "metadata": {
  "kernelspec": {
   "display_name": "Python 3",
   "language": "python",
   "name": "python3"
  },
  "language_info": {
   "name": "python",
   "version": "3.11.0 (main, Oct 24 2022, 18:26:48) [MSC v.1933 64 bit (AMD64)]"
  },
  "orig_nbformat": 4,
  "vscode": {
   "interpreter": {
    "hash": "c51ff0908fa3e7b1170d96ccb7b98106d01f30c4033bd7e2c550f2be51ccd79c"
   }
  }
 },
 "nbformat": 4,
 "nbformat_minor": 2
}
