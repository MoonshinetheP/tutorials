{
 "cells": [
  {
   "attachments": {},
   "cell_type": "markdown",
   "metadata": {},
   "source": [
    "# 2. Head element\n",
    "---"
   ]
  },
  {
   "attachments": {},
   "cell_type": "markdown",
   "metadata": {},
   "source": [
    "In this lesson, we will learn:\n",
    "- what other information can go into the head element  \n"
   ]
  },
  {
   "attachments": {},
   "cell_type": "markdown",
   "metadata": {},
   "source": [
    "### 2.1 Metadata"
   ]
  },
  {
   "attachments": {},
   "cell_type": "markdown",
   "metadata": {},
   "source": [
    "We can add other metatags that contain other metadata such as author and descriptions. This can be used by a search engine or web scraper"
   ]
  },
  {
   "cell_type": "code",
   "execution_count": null,
   "metadata": {
    "vscode": {
     "languageId": "html"
    }
   },
   "outputs": [],
   "source": [
    "<!DOCTYPE html>\n",
    "<html lang=\"en\">\n",
    "    <head>\n",
    "        <meta charset=\"UTF-8\">\n",
    "        <meta name=\"author\" content=\"Steven Linfield\">\n",
    "        <meta name=\"description\" content=\"This page contains all the things I learn in HTML\">\n",
    "        <title>My first web page</title>\n",
    "    </head>\n",
    "    <body>\n",
    "        <h1>Hello World!</h1>\n",
    "        <p>This is my first web page</p>\n",
    "    </body>\n",
    "</html>"
   ]
  },
  {
   "attachments": {},
   "cell_type": "markdown",
   "metadata": {},
   "source": [
    "We can also add an icon to the head using a link element. In the link element there is a rel attrtibute which stands for relate, asking how the link relates to the page. We also use href which refences a resource and the type of link."
   ]
  },
  {
   "cell_type": "code",
   "execution_count": null,
   "metadata": {
    "vscode": {
     "languageId": "html"
    }
   },
   "outputs": [],
   "source": [
    "<!DOCTYPE html>\n",
    "<html lang=\"en\">\n",
    "    <head>\n",
    "        <meta charset=\"UTF-8\">\n",
    "        <meta name=\"author\" content=\"Steven Linfield\">\n",
    "        <meta name=\"description\" content=\"This page contains all the things I learn in HTML\">\n",
    "        <title>My first web page</title>\n",
    "        <link rel=\"icon\" href=\"html5.png\" type=\"image/x-icon\">\n",
    "    </head>\n",
    "    <body>\n",
    "        <h1>Hello World!</h1>\n",
    "        <p>This is my first web page</p>\n",
    "    </body>\n",
    "</html>"
   ]
  },
  {
   "attachments": {},
   "cell_type": "markdown",
   "metadata": {},
   "source": [
    "The head is also where we link to CSS files, javascript files and other functions on the web. We can refer to a separate css file that contains all the style formats"
   ]
  },
  {
   "cell_type": "code",
   "execution_count": null,
   "metadata": {
    "vscode": {
     "languageId": "html"
    }
   },
   "outputs": [],
   "source": [
    "<!DOCTYPE html>\n",
    "<html lang=\"en\">\n",
    "    <head>\n",
    "        <meta charset=\"UTF-8\">\n",
    "        <meta name=\"author\" content=\"Steven Linfield\">\n",
    "        <meta name=\"description\" content=\"This page contains all the things I learn in HTML\">\n",
    "        <title>My first web page</title>\n",
    "        <link rel=\"icon\" href=\"html.png\" type=\"image/x-icon\">\n",
    "        <link rel=\"'stylesheet\" href=\"main.css\" type=\"text/css\">\n",
    "    </head>\n",
    "    <body>\n",
    "        <h1>Hello World!</h1>\n",
    "        <p>This is my first web page</p>\n",
    "    </body>\n",
    "</html>"
   ]
  }
 ],
 "metadata": {
  "kernelspec": {
   "display_name": "Python 3",
   "language": "python",
   "name": "python3"
  },
  "language_info": {
   "codemirror_mode": {
    "name": "ipython",
    "version": 3
   },
   "file_extension": ".py",
   "mimetype": "text/x-python",
   "name": "python",
   "nbconvert_exporter": "python",
   "pygments_lexer": "ipython3",
   "version": "3.11.0 (main, Oct 24 2022, 18:26:48) [MSC v.1933 64 bit (AMD64)]"
  },
  "orig_nbformat": 4,
  "vscode": {
   "interpreter": {
    "hash": "c51ff0908fa3e7b1170d96ccb7b98106d01f30c4033bd7e2c550f2be51ccd79c"
   }
  }
 },
 "nbformat": 4,
 "nbformat_minor": 2
}
