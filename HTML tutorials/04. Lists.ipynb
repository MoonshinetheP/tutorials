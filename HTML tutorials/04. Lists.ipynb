{
 "cells": [
  {
   "attachments": {},
   "cell_type": "markdown",
   "metadata": {},
   "source": [
    "# 4. Lists\n",
    "---"
   ]
  },
  {
   "attachments": {},
   "cell_type": "markdown",
   "metadata": {},
   "source": [
    "In this lesson, we will learn:\n",
    "- lists"
   ]
  },
  {
   "attachments": {},
   "cell_type": "markdown",
   "metadata": {},
   "source": [
    "### 4.1 Ordered lists"
   ]
  },
  {
   "attachments": {},
   "cell_type": "markdown",
   "metadata": {},
   "source": [
    "To make an ordered list, we need to first declare an ordered list element and then we can add list item elements. This produces a list numbered from 1"
   ]
  },
  {
   "cell_type": "code",
   "execution_count": null,
   "metadata": {
    "vscode": {
     "languageId": "html"
    }
   },
   "outputs": [],
   "source": [
    "<!DOCTYPE html>\n",
    "<html lang=\"en\">\n",
    "    <head>\n",
    "        <meta charset=\"UTF-8\">\n",
    "        <meta name=\"author\" content=\"Steven Linfield\">\n",
    "        <meta name=\"description\" content=\"This page contains all the things I learn in HTML\">\n",
    "        <title>My first web page</title>\n",
    "        <link rel=\"icon\" href=\"html.png\" type=\"image/x-icon\">\n",
    "        <style>html {\n",
    "            font-size: 22px;\n",
    "        }\n",
    "        \n",
    "        body {\n",
    "            background-color: #82cad8;\n",
    "            color: #c81717;\n",
    "        }</style>\n",
    "    </head>\n",
    "    <body>\n",
    "        <h1>Hello World!</h1>\n",
    "        <p><strong>This is my first web page</strong></p>\n",
    "        <hr>\n",
    "        <h2>I am <em>learning</em> <abbr title=\"HyperText Markup Language\">HTML</abbr></h2>\n",
    "        <p>This is some text I wrote</p>\n",
    "        <ol>\n",
    "            <li> And this also </li>\n",
    "            <li> This too </li>\n",
    "        </ol>\n",
    "        <hr>\n",
    "        <h3>This is a sub sub topic</h3>\n",
    "        <p>I am writing more &lt; text</p>\n",
    "        <!--Need to change address-->\n",
    "        <address>\n",
    "        12 Victoria Terrace<br>\n",
    "        Bath Road<br>  \n",
    "        Paulton<br>\n",
    "        BS39 7NY<br>\n",
    "        </address>\n",
    "    </body>\n",
    "</html>"
   ]
  },
  {
   "attachments": {},
   "cell_type": "markdown",
   "metadata": {},
   "source": [
    "### 4.2 Unordered lists"
   ]
  },
  {
   "attachments": {},
   "cell_type": "markdown",
   "metadata": {},
   "source": [
    "We can start an unordered list by starting with ul element and then adding list items"
   ]
  },
  {
   "cell_type": "code",
   "execution_count": null,
   "metadata": {
    "vscode": {
     "languageId": "html"
    }
   },
   "outputs": [],
   "source": [
    "<!DOCTYPE html>\n",
    "<html lang=\"en\">\n",
    "    <head>\n",
    "        <meta charset=\"UTF-8\">\n",
    "        <meta name=\"author\" content=\"Steven Linfield\">\n",
    "        <meta name=\"description\" content=\"This page contains all the things I learn in HTML\">\n",
    "        <title>My first web page</title>\n",
    "        <link rel=\"icon\" href=\"html.png\" type=\"image/x-icon\">\n",
    "        <style>html {\n",
    "            font-size: 22px;\n",
    "        }\n",
    "        \n",
    "        body {\n",
    "            background-color: #82cad8;\n",
    "            color: #c81717;\n",
    "        }</style>\n",
    "    </head>\n",
    "    <body>\n",
    "        <h1>Hello World!</h1>\n",
    "        <p><strong>This is my first web page</strong></p>\n",
    "        <hr>\n",
    "        <h2>I am <em>learning</em> <abbr title=\"HyperText Markup Language\">HTML</abbr></h2>\n",
    "        <p>This is some text I wrote</p>\n",
    "        <ol>\n",
    "            <li> And this also </li>\n",
    "            <li> This too </li>\n",
    "        </ol>\n",
    "        <hr>\n",
    "        <h3>This is a sub sub topic</h3>\n",
    "        <ul>\n",
    "        <li><p>I am writing more &lt; text</p></li>\n",
    "        <li><p>it needs to be done after all</p>\n",
    "        \n",
    "        <!--Need to change address-->\n",
    "        <address>\n",
    "        12 Victoria Terrace<br>\n",
    "        Bath Road<br>  \n",
    "        Paulton<br>\n",
    "        BS39 7NY<br>\n",
    "        </address>\n",
    "        </li>\n",
    "        </ul>\n",
    "\n",
    "        \n",
    "    </body>\n",
    "</html>"
   ]
  },
  {
   "attachments": {},
   "cell_type": "markdown",
   "metadata": {},
   "source": [
    "### 4.3 Description list"
   ]
  },
  {
   "attachments": {},
   "cell_type": "markdown",
   "metadata": {},
   "source": [
    "There are two types of elements in a description list - dt for description term and dd for description detail"
   ]
  },
  {
   "cell_type": "code",
   "execution_count": null,
   "metadata": {
    "vscode": {
     "languageId": "html"
    }
   },
   "outputs": [],
   "source": [
    "<!DOCTYPE html>\n",
    "<html lang=\"en\">\n",
    "    <head>\n",
    "        <meta charset=\"UTF-8\">\n",
    "        <meta name=\"author\" content=\"Steven Linfield\">\n",
    "        <meta name=\"description\" content=\"This page contains all the things I learn in HTML\">\n",
    "        <title>My first web page</title>\n",
    "        <link rel=\"icon\" href=\"html.png\" type=\"image/x-icon\">\n",
    "        <style>html {\n",
    "            font-size: 22px;\n",
    "        }\n",
    "        \n",
    "        body {\n",
    "            background-color: #82cad8;\n",
    "            color: #c81717;\n",
    "        }</style>\n",
    "    </head>\n",
    "    <body>\n",
    "        <h1>Hello World!</h1>\n",
    "        <p><strong>This is my first web page</strong></p>\n",
    "        <hr>\n",
    "        <h2>I am <em>learning</em> <abbr title=\"HyperText Markup Language\">HTML</abbr></h2>\n",
    "        <p>This is some text I wrote</p>\n",
    "        <ol>\n",
    "            <li> And this also </li>\n",
    "            <li> This too </li>\n",
    "        </ol>\n",
    "        <hr>\n",
    "        <h3>This is a sub sub topic</h3>\n",
    "        <ul>\n",
    "        <li><p>I am writing more &lt; text</p></li>\n",
    "        <li><p>it needs to be done after all</p>\n",
    "        \n",
    "        <!--Need to change address-->\n",
    "        <address>\n",
    "        12 Victoria Terrace<br>\n",
    "        Bath Road<br>  \n",
    "        Paulton<br>\n",
    "        BS39 7NY<br>\n",
    "        </address>\n",
    "        </li>\n",
    "        </ul>\n",
    "        <dl>\n",
    "            <dt>HTML</dt>\n",
    "            <dd>This makes the structure</dd>\n",
    "\n",
    "            <dt>CSS</dt>\n",
    "            <dd>This makes it pretty</dd>\n",
    "        </dl>\n",
    "        \n",
    "    </body>\n",
    "</html>"
   ]
  }
 ],
 "metadata": {
  "kernelspec": {
   "display_name": "Python 3",
   "language": "python",
   "name": "python3"
  },
  "language_info": {
   "name": "python",
   "version": "3.11.0 (main, Oct 24 2022, 18:26:48) [MSC v.1933 64 bit (AMD64)]"
  },
  "orig_nbformat": 4,
  "vscode": {
   "interpreter": {
    "hash": "c51ff0908fa3e7b1170d96ccb7b98106d01f30c4033bd7e2c550f2be51ccd79c"
   }
  }
 },
 "nbformat": 4,
 "nbformat_minor": 2
}
