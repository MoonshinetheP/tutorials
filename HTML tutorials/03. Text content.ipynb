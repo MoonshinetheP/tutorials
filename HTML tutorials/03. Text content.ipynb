{
 "cells": [
  {
   "attachments": {},
   "cell_type": "markdown",
   "metadata": {},
   "source": [
    "# 3. Text content\n",
    "---"
   ]
  },
  {
   "attachments": {},
   "cell_type": "markdown",
   "metadata": {},
   "source": [
    "In this lesson, we will learn:\n",
    "- how to make text content in HTML"
   ]
  },
  {
   "attachments": {},
   "cell_type": "markdown",
   "metadata": {},
   "source": [
    "### 3.1 Headings"
   ]
  },
  {
   "attachments": {},
   "cell_type": "markdown",
   "metadata": {},
   "source": [
    "Much of the text content on a web page is made of headings and paragraphs. Headings have a heirachy that allow automatic readers to navigate the page. There should only be one h1 element on each page, but there can be many subtopics (h2 for example)"
   ]
  },
  {
   "cell_type": "code",
   "execution_count": null,
   "metadata": {
    "vscode": {
     "languageId": "html"
    }
   },
   "outputs": [],
   "source": [
    "<!DOCTYPE html>\n",
    "<html lang=\"en\">\n",
    "    <head>\n",
    "        <meta charset=\"UTF-8\">\n",
    "        <meta name=\"author\" content=\"Steven Linfield\">\n",
    "        <meta name=\"description\" content=\"This page contains all the things I learn in HTML\">\n",
    "        <title>My first web page</title>\n",
    "        <link rel=\"icon\" href=\"html.png\" type=\"image/x-icon\">\n",
    "        <link rel=\"'stylesheet\" href=\"main.css\" type=\"text/css\">\n",
    "    </head>\n",
    "    <body>\n",
    "        <h1>Hello World!</h1>\n",
    "        <p>This is my first web page</p>\n",
    "        <h2>I am learning HTML</h2>\n",
    "        <p>This is some text I wrote</p>\n",
    "        <h3>This is a sub sub topic</h3>\n",
    "        <p>I am writing more text</p>\n",
    "    </body>\n",
    "</html>"
   ]
  },
  {
   "attachments": {},
   "cell_type": "markdown",
   "metadata": {},
   "source": [
    "All of the stylings can be changed later with CSS"
   ]
  },
  {
   "attachments": {},
   "cell_type": "markdown",
   "metadata": {},
   "source": [
    "We can add a horizontal rule to separate parts of our page"
   ]
  },
  {
   "cell_type": "code",
   "execution_count": null,
   "metadata": {
    "vscode": {
     "languageId": "html"
    }
   },
   "outputs": [],
   "source": [
    "<!DOCTYPE html>\n",
    "<html lang=\"en\">\n",
    "    <head>\n",
    "        <meta charset=\"UTF-8\">\n",
    "        <meta name=\"author\" content=\"Steven Linfield\">\n",
    "        <meta name=\"description\" content=\"This page contains all the things I learn in HTML\">\n",
    "        <title>My first web page</title>\n",
    "        <link rel=\"icon\" href=\"html.png\" type=\"image/x-icon\">\n",
    "        <link rel=\"'stylesheet\" href=\"main.css\" type=\"text/css\">\n",
    "    </head>\n",
    "    <body>\n",
    "        <h1>Hello World!</h1>\n",
    "        <p>This is my first web page</p>\n",
    "        <hr>\n",
    "        <h2>I am learning HTML</h2>\n",
    "        <p>This is some text I wrote</p>\n",
    "        <hr>\n",
    "        <h3>This is a sub sub topic</h3>\n",
    "        <p>I am writing more text</p>\n",
    "    </body>\n",
    "</html>"
   ]
  },
  {
   "attachments": {},
   "cell_type": "markdown",
   "metadata": {},
   "source": [
    "HTML collapse whitespaces in the code, and do not show it into the page. We can make a line break using the br elements though."
   ]
  },
  {
   "cell_type": "code",
   "execution_count": null,
   "metadata": {
    "vscode": {
     "languageId": "html"
    }
   },
   "outputs": [],
   "source": [
    "<!DOCTYPE html>\n",
    "<html lang=\"en\">\n",
    "    <head>\n",
    "        <meta charset=\"UTF-8\">\n",
    "        <meta name=\"author\" content=\"Steven Linfield\">\n",
    "        <meta name=\"description\" content=\"This page contains all the things I learn in HTML\">\n",
    "        <title>My first web page</title>\n",
    "        <link rel=\"icon\" href=\"html.png\" type=\"image/x-icon\">\n",
    "        <link rel=\"'stylesheet\" href=\"main.css\" type=\"text/css\">\n",
    "    </head>\n",
    "    <body>\n",
    "        <h1>Hello World!</h1>\n",
    "        <p>This is my first web page</p>\n",
    "        <hr>\n",
    "        <h2>I am learning HTML</h2>\n",
    "        <p>This is some text I wrote</p>\n",
    "            <br> And this also\n",
    "            <br> This too\n",
    "        <hr>\n",
    "        <h3>This is a sub sub topic</h3>\n",
    "        <p>I am writing more text</p>\n",
    "    </body>\n",
    "</html>"
   ]
  },
  {
   "attachments": {},
   "cell_type": "markdown",
   "metadata": {},
   "source": [
    "There are both block level elements which start on a new line (p, br, hr) and inline level elements that do not (emphasis with em, bold with strong)"
   ]
  },
  {
   "attachments": {},
   "cell_type": "markdown",
   "metadata": {},
   "source": [
    "We can also add HTML entities which are symbols or spaces that we might not be able to add because they are used in HTML. These start with an amphersand (such as indenting with `&nbsp;`). `&lt;` stands for less than, `&copy` is the copyright symbol, `&gt` is greater than"
   ]
  },
  {
   "cell_type": "code",
   "execution_count": null,
   "metadata": {
    "vscode": {
     "languageId": "html"
    }
   },
   "outputs": [],
   "source": [
    "<!DOCTYPE html>\n",
    "<html lang=\"en\">\n",
    "    <head>\n",
    "        <meta charset=\"UTF-8\">\n",
    "        <meta name=\"author\" content=\"Steven Linfield\">\n",
    "        <meta name=\"description\" content=\"This page contains all the things I learn in HTML\">\n",
    "        <title>My first web page</title>\n",
    "        <link rel=\"icon\" href=\"html.png\" type=\"image/x-icon\">\n",
    "        <link rel=\"'stylesheet\" href=\"main.css\" type=\"text/css\">\n",
    "    </head>\n",
    "    <body>\n",
    "        <h1>Hello World!</h1>\n",
    "        <p><strong>This is my first web page</strong></p>\n",
    "        <hr>\n",
    "        <h2>I am <em>learning</em> HTML</h2>\n",
    "        <p>This is some text I wrote</p>\n",
    "            <br>&nbsp; And this also\n",
    "            <br>&nbsp; This too\n",
    "        <hr>\n",
    "        <h3>This is a sub sub topic</h3>\n",
    "        <p>I am writing more &lt; text</p>\n",
    "    </body>\n",
    "</html>"
   ]
  },
  {
   "attachments": {},
   "cell_type": "markdown",
   "metadata": {},
   "source": [
    "We can also add something to elaborate on abbreviations using `<abbr title=\"\">`. This is not readable to screen readers, but does explain abbreviations when you mouse over"
   ]
  },
  {
   "cell_type": "code",
   "execution_count": null,
   "metadata": {
    "vscode": {
     "languageId": "html"
    }
   },
   "outputs": [],
   "source": [
    "<!DOCTYPE html>\n",
    "<html lang=\"en\">\n",
    "    <head>\n",
    "        <meta charset=\"UTF-8\">\n",
    "        <meta name=\"author\" content=\"Steven Linfield\">\n",
    "        <meta name=\"description\" content=\"This page contains all the things I learn in HTML\">\n",
    "        <title>My first web page</title>\n",
    "        <link rel=\"icon\" href=\"html.png\" type=\"image/x-icon\">\n",
    "        <link rel=\"'stylesheet\" href=\"main.css\" type=\"text/css\">\n",
    "    </head>\n",
    "    <body>\n",
    "        <h1>Hello World!</h1>\n",
    "        <p><strong>This is my first web page</strong></p>\n",
    "        <hr>\n",
    "        <h2>I am <em>learning</em> <abbr title=\"HyperText Markup Language\">HTML</abbr></h2>\n",
    "        <p>This is some text I wrote</p>\n",
    "            <br>&nbsp; And this also\n",
    "            <br>&nbsp; This too\n",
    "        <hr>\n",
    "        <h3>This is a sub sub topic</h3>\n",
    "        <p>I am writing more &lt; text</p>\n",
    "    </body>\n",
    "</html>"
   ]
  },
  {
   "cell_type": "code",
   "execution_count": null,
   "metadata": {
    "vscode": {
     "languageId": "html"
    }
   },
   "outputs": [],
   "source": [
    "We can also add a location address in the address element"
   ]
  },
  {
   "attachments": {},
   "cell_type": "markdown",
   "metadata": {},
   "source": [
    "<!DOCTYPE html>\n",
    "<html lang=\"en\">\n",
    "    <head>\n",
    "        <meta charset=\"UTF-8\">\n",
    "        <meta name=\"author\" content=\"Steven Linfield\">\n",
    "        <meta name=\"description\" content=\"This page contains all the things I learn in HTML\">\n",
    "        <title>My first web page</title>\n",
    "        <link rel=\"icon\" href=\"html.png\" type=\"image/x-icon\">\n",
    "        <link rel=\"'stylesheet\" href=\"main.css\" type=\"text/css\">\n",
    "    </head>\n",
    "    <body>\n",
    "        <h1>Hello World!</h1>\n",
    "        <p><strong>This is my first web page</strong></p>\n",
    "        <hr>\n",
    "        <h2>I am <em>learning</em> <abbr title=\"HyperText Markup Language\">HTML</abbr></h2>\n",
    "        <p>This is some text I wrote</p>\n",
    "            <br>&nbsp; And this also\n",
    "            <br>&nbsp; This too\n",
    "        <hr>\n",
    "        <h3>This is a sub sub topic</h3>\n",
    "        <p>I am writing more &lt; text</p>\n",
    "        <address>\n",
    "        12 Victoria Terrace<br>\n",
    "        Bath Road<br>  \n",
    "        Paulton<br>\n",
    "        BS39 7NY<br>\n",
    "        </address>\n",
    "    </body>\n",
    "</html>"
   ]
  },
  {
   "attachments": {},
   "cell_type": "markdown",
   "metadata": {},
   "source": [
    "We can add HTML comments which are not on the page but visible to the public"
   ]
  },
  {
   "cell_type": "code",
   "execution_count": null,
   "metadata": {
    "vscode": {
     "languageId": "html"
    }
   },
   "outputs": [],
   "source": [
    "<!DOCTYPE html>\n",
    "<html lang=\"en\">\n",
    "    <head>\n",
    "        <meta charset=\"UTF-8\">\n",
    "        <meta name=\"author\" content=\"Steven Linfield\">\n",
    "        <meta name=\"description\" content=\"This page contains all the things I learn in HTML\">\n",
    "        <title>My first web page</title>\n",
    "        <link rel=\"icon\" href=\"html.png\" type=\"image/x-icon\">\n",
    "        <link rel=\"'stylesheet\" href=\"main.css\" type=\"text/css\">\n",
    "    </head>\n",
    "    <body>\n",
    "        <h1>Hello World!</h1>\n",
    "        <p><strong>This is my first web page</strong></p>\n",
    "        <hr>\n",
    "        <h2>I am <em>learning</em> <abbr title=\"HyperText Markup Language\">HTML</abbr></h2>\n",
    "        <p>This is some text I wrote</p>\n",
    "            <br>&nbsp; And this also\n",
    "            <br>&nbsp; This too\n",
    "        <hr>\n",
    "        <h3>This is a sub sub topic</h3>\n",
    "        <p>I am writing more &lt; text</p>\n",
    "        <!--Need to change address-->\n",
    "        <address>\n",
    "        12 Victoria Terrace<br>\n",
    "        Bath Road<br>  \n",
    "        Paulton<br>\n",
    "        BS39 7NY<br>\n",
    "        </address>\n",
    "    </body>\n",
    "</html>"
   ]
  }
 ],
 "metadata": {
  "kernelspec": {
   "display_name": "Python 3",
   "language": "python",
   "name": "python3"
  },
  "language_info": {
   "name": "python",
   "version": "3.11.0 (main, Oct 24 2022, 18:26:48) [MSC v.1933 64 bit (AMD64)]"
  },
  "orig_nbformat": 4,
  "vscode": {
   "interpreter": {
    "hash": "c51ff0908fa3e7b1170d96ccb7b98106d01f30c4033bd7e2c550f2be51ccd79c"
   }
  }
 },
 "nbformat": 4,
 "nbformat_minor": 2
}
