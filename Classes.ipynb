{
 "cells": [
  {
   "attachments": {},
   "cell_type": "markdown",
   "metadata": {},
   "source": [
    "# Classes\n",
    "---"
   ]
  },
  {
   "attachments": {},
   "cell_type": "markdown",
   "metadata": {},
   "source": [
    "In this module, we will learn:\n",
    "* what the **object** in *object-oriented programming* really means\n",
    "* how to make our own objects using **classes**\n",
    "* how to use class **attributes** and **methods**"
   ]
  },
  {
   "attachments": {},
   "cell_type": "markdown",
   "metadata": {},
   "source": [
    "#### Introduction"
   ]
  },
  {
   "attachments": {},
   "cell_type": "markdown",
   "metadata": {},
   "source": [
    "Python is an object orientated programming.\n",
    "Objects are part of a class\n",
    "Objects we encouter in regular python code such as integers, floats, and strings are all instances of their\n",
    "Functions are also classes.\n",
    "Many of the classes we use are built into Python\n",
    "The class defines how an object can interact with other objects"
   ]
  },
  {
   "cell_type": "code",
   "execution_count": null,
   "metadata": {},
   "outputs": [],
   "source": [
    "a = 1\n",
    "b = 0.5\n",
    "c = 'text'\n",
    "\n",
    "def func():\n",
    "    pass\n",
    "\n",
    "print(type(a), type(b), type(c), type(func))"
   ]
  },
  {
   "attachments": {},
   "cell_type": "markdown",
   "metadata": {},
   "source": [
    "For example, we cannot add integers to strings. Because the addition operator does not have any definition of how to add strings and integers together."
   ]
  },
  {
   "cell_type": "code",
   "execution_count": null,
   "metadata": {},
   "outputs": [],
   "source": [
    "print(a + c)"
   ]
  },
  {
   "attachments": {},
   "cell_type": "markdown",
   "metadata": {},
   "source": [
    "Methods are something we can perform on objects."
   ]
  },
  {
   "cell_type": "code",
   "execution_count": null,
   "metadata": {},
   "outputs": [],
   "source": [
    "print(c.upper())"
   ]
  },
  {
   "attachments": {},
   "cell_type": "markdown",
   "metadata": {},
   "source": [
    "If you tried this on an integer, it would give an error that the integer has no attribute upper, because the integer class does not have such a method"
   ]
  },
  {
   "attachments": {},
   "cell_type": "markdown",
   "metadata": {},
   "source": [
    "#### Creating our own blueprint"
   ]
  },
  {
   "attachments": {},
   "cell_type": "markdown",
   "metadata": {},
   "source": [
    "We can also create our own class:"
   ]
  },
  {
   "cell_type": "code",
   "execution_count": null,
   "metadata": {},
   "outputs": [],
   "source": [
    "class Dog:\n",
    "    def bark(self):\n",
    "        print('bark')"
   ]
  },
  {
   "attachments": {},
   "cell_type": "markdown",
   "metadata": {},
   "source": [
    "A class is essentially a blueprint for any of its objects. We can define the operations an instance of the class is able to do./\n",
    "We also start with a parameter called self."
   ]
  },
  {
   "attachments": {},
   "cell_type": "markdown",
   "metadata": {},
   "source": [
    "Let's call an instance of the Dog class"
   ]
  },
  {
   "cell_type": "code",
   "execution_count": null,
   "metadata": {},
   "outputs": [],
   "source": [
    "d = Dog()\n",
    "print(type(d))"
   ]
  },
  {
   "attachments": {},
   "cell_type": "markdown",
   "metadata": {},
   "source": [
    "The underscores tell us what module the class was defined in. Here it says main because we are creating it in our own file./\n",
    "We can call the method of a class we have defined by using standard notation"
   ]
  },
  {
   "cell_type": "code",
   "execution_count": null,
   "metadata": {},
   "outputs": [],
   "source": [
    "d.bark()"
   ]
  },
  {
   "attachments": {},
   "cell_type": "markdown",
   "metadata": {},
   "source": [
    "Convention when making a class is to use upper case, or Camel case\n",
    "Inside the class we can define any number of methods. These don't necessarily need to print something, they can return something instead\n"
   ]
  },
  {
   "cell_type": "code",
   "execution_count": null,
   "metadata": {},
   "outputs": [],
   "source": [
    "class Elephant:\n",
    "    \n",
    "    def add_one(self, x):\n",
    "        return x + 1"
   ]
  },
  {
   "cell_type": "code",
   "execution_count": null,
   "metadata": {},
   "outputs": [],
   "source": [
    "e = Elephant()\n",
    "print(e.add_one(5))"
   ]
  },
  {
   "attachments": {},
   "cell_type": "markdown",
   "metadata": {},
   "source": [
    "We may also need to add the init method, which is called every time a new instance of a class is made. For example, we can add arguments which are included when an instance is made and are immediately passed to the init method. When we do so, we need to store the argument within the class by declaring self.name (or any other variable) equal to the name argument passed through. This becomes an attribute of the class"
   ]
  },
  {
   "cell_type": "code",
   "execution_count": null,
   "metadata": {},
   "outputs": [],
   "source": [
    "class Fox():\n",
    "\n",
    "    def __init__(self, name):\n",
    "        self.name = name"
   ]
  },
  {
   "cell_type": "code",
   "execution_count": null,
   "metadata": {},
   "outputs": [],
   "source": [
    "f = Fox('Fiona')\n",
    "print(f.name)"
   ]
  },
  {
   "attachments": {},
   "cell_type": "markdown",
   "metadata": {},
   "source": [
    "Note that the attribute does not need brackets like the method does/\n",
    "Attributes also do not need to be in the arguments, you can make extra attributes within the class\n",
    "Also, attributes can be referenced by other methods in the class"
   ]
  },
  {
   "cell_type": "code",
   "execution_count": null,
   "metadata": {},
   "outputs": [],
   "source": [
    "class Giraffe:\n",
    "\n",
    "    def __init__(self, name):\n",
    "        self.name = name\n",
    "    \n",
    "    def name_tag(self):\n",
    "        print(self.name)\n",
    "\n",
    "g = Giraffe('Gregory')\n",
    "g.name_tag()"
   ]
  },
  {
   "attachments": {},
   "cell_type": "markdown",
   "metadata": {},
   "source": [
    "Self is necessary, so that the instance is fed into the class and we know what instance we are dealing with."
   ]
  },
  {
   "attachments": {},
   "cell_type": "markdown",
   "metadata": {},
   "source": [
    "So we can design a blueprint for objects that store data related to the object and define what methods and attributes the object has. We can have infinite instances of the class./\n",
    "Very useful for simplifying code for objects that are made in mass or as part of a larger code. Easier compared to storing data in individual variables or lists, dictionaries etc./\n"
   ]
  },
  {
   "attachments": {},
   "cell_type": "markdown",
   "metadata": {},
   "source": [
    "We can also make classes interact with each other"
   ]
  },
  {
   "cell_type": "code",
   "execution_count": null,
   "metadata": {},
   "outputs": [],
   "source": [
    "class Hyena:\n",
    "    def __init__(self, name, age):\n",
    "        self.name = name\n",
    "        self.age = age\n",
    "\n",
    "class Animal:\n",
    "    def __init__(self, type):\n",
    "        self.type = type\n",
    "        self.census = []\n",
    "\n",
    "    def add_hyena(self, hyena):\n",
    "        self.census.append(hyena)\n",
    "\n",
    "    def average_age(self):\n",
    "        value = 0\n",
    "        for hyena in self.census:\n",
    "            value += hyena.age\n",
    "        return value / len(self.census)\n",
    "\n",
    "h1 = Hyena('Harry', 24)\n",
    "h2 = Hyena('Hubert', 60)\n",
    "h3 = Hyena('Hillary', 32)\n",
    "\n",
    "h = Animal('Carnivore')\n",
    "h.add_hyena(h1)\n",
    "h.add_hyena(h2)\n",
    "h.add_hyena(h3)\n",
    "\n",
    "print(h.average_age())"
   ]
  },
  {
   "attachments": {},
   "cell_type": "markdown",
   "metadata": {},
   "source": [
    "Note that in the above example, the Hyena's could be added to a separate type of Animal instance called Herbivores, if they decide to change their taste for meat."
   ]
  },
  {
   "attachments": {},
   "cell_type": "markdown",
   "metadata": {},
   "source": [
    "#### Inheritance"
   ]
  },
  {
   "attachments": {},
   "cell_type": "markdown",
   "metadata": {},
   "source": [
    "Another concept is inheritance, where we have two classes which are very similar"
   ]
  },
  {
   "cell_type": "code",
   "execution_count": null,
   "metadata": {},
   "outputs": [],
   "source": [
    "class Iguana:\n",
    "    def __init__(self, name):\n",
    "        self.name = name\n",
    "\n",
    "    def speak(self):\n",
    "        print('Meep!')\n",
    "\n",
    "class Jaguar:\n",
    "    def __init__(self, name):\n",
    "        self.name = name\n",
    "\n",
    "    def speak(self):\n",
    "        print('Roar!')"
   ]
  },
  {
   "attachments": {},
   "cell_type": "markdown",
   "metadata": {},
   "source": [
    "These are practically the same, except for the output of speak, so we could maybe make an upper level class from which these classes can inherit the init method"
   ]
  },
  {
   "cell_type": "code",
   "execution_count": null,
   "metadata": {},
   "outputs": [],
   "source": [
    "class NoisyAnimal:\n",
    "    def __init__(self, name):\n",
    "        self.name = name\n",
    "    \n",
    "    def label(self):\n",
    "        print(f'My name is {self.name}')\n",
    "\n",
    "    def speak(self):\n",
    "        print('I am an animal')\n",
    "\n",
    "class Koala(NoisyAnimal):\n",
    "    def __init__(self, name):\n",
    "        self.name = name\n",
    "\n",
    "    def speak(self):\n",
    "        print('...!')\n",
    "\n",
    "k = Koala('Kasper')\n",
    "k.label()"
   ]
  },
  {
   "attachments": {},
   "cell_type": "markdown",
   "metadata": {},
   "source": [
    "In this case, the lower level class has inherited the attribute from the upper level class. It can also run its own methods, but if it shares a method with the parent claass, then the child will run its own version of the method"
   ]
  },
  {
   "cell_type": "code",
   "execution_count": null,
   "metadata": {},
   "outputs": [],
   "source": [
    "k.speak()"
   ]
  },
  {
   "cell_type": "code",
   "execution_count": null,
   "metadata": {},
   "outputs": [],
   "source": [
    "class Llama(NoisyAnimal):\n",
    "    pass\n",
    "\n",
    "l = Llama('Leroy')\n",
    "l.speak()"
   ]
  },
  {
   "attachments": {},
   "cell_type": "markdown",
   "metadata": {},
   "source": [
    "This is important, as if no such method is defined in the child, then the child will adopt the method from the parent"
   ]
  },
  {
   "attachments": {},
   "cell_type": "markdown",
   "metadata": {},
   "source": [
    "Note that if we want to add an attribute to the child class, we can do so by making an init method with all the functions of the parent class. However, we may not want to override the other attributes of the parent class, especially if the init of the parent class performs some function on those attributes. There is a special way to do this"
   ]
  },
  {
   "cell_type": "code",
   "execution_count": null,
   "metadata": {},
   "outputs": [],
   "source": [
    "class Monkey(NoisyAnimal):\n",
    "    def __init__(self,name,age):\n",
    "        super().__init__(name)\n",
    "        self.age = age"
   ]
  },
  {
   "attachments": {},
   "cell_type": "markdown",
   "metadata": {},
   "source": [
    "Super refers to the super or parent class and the init method of the super calls the init of the parent class. Self is not needed in this case, as it has already been written in the parent"
   ]
  },
  {
   "attachments": {},
   "cell_type": "markdown",
   "metadata": {},
   "source": [
    "Inheritance is useful for grouping attributes or methods which are common amongst many child classes."
   ]
  },
  {
   "attachments": {},
   "cell_type": "markdown",
   "metadata": {},
   "source": [
    "#### Class attributes"
   ]
  },
  {
   "attachments": {},
   "cell_type": "markdown",
   "metadata": {},
   "source": [
    "Class attributes are specific to the class, not the instance (i.e. they do not use self). A class attribute is not defined in any method and does not have any access to instances of the class"
   ]
  },
  {
   "cell_type": "code",
   "execution_count": null,
   "metadata": {},
   "outputs": [],
   "source": [
    "class Narwhal:\n",
    "    number_of_horns = 1\n",
    "\n",
    "    def __init__(self,name):\n",
    "        self.name = name\n",
    "\n",
    "n = Narwhal('Nina')\n",
    "\n",
    "print(n.number_of_horns)\n",
    "print(Narwhal.number_of_horns)"
   ]
  },
  {
   "attachments": {},
   "cell_type": "markdown",
   "metadata": {},
   "source": [
    "This means we can also change the value of the class attribute. For example, if we found a rare two-horned Narwhal:"
   ]
  },
  {
   "cell_type": "code",
   "execution_count": null,
   "metadata": {},
   "outputs": [],
   "source": [
    "Narwhal.number_of_horns = 2\n",
    "print(n.number_of_horns)"
   ]
  },
  {
   "attachments": {},
   "cell_type": "markdown",
   "metadata": {},
   "source": [
    "We can use this to keep track of the number of instances of a class we have created. Also good for making sure a constant is kept in the class, so that it is available if the class is put into a different file."
   ]
  },
  {
   "cell_type": "code",
   "execution_count": null,
   "metadata": {},
   "outputs": [],
   "source": [
    "class Octopus:\n",
    "    number_of_octupi = 0\n",
    "    def __init__(self,name):\n",
    "        self.name = name\n",
    "        Octopus.number_of_octupi += 1\n",
    "        print(f' My name is {name}')\n",
    "\n",
    "print(Octopus.number_of_octupi)\n",
    "o1 = Octopus('Olly')\n",
    "print(Octopus.number_of_octupi)\n",
    "o2 = Octopus('Octavia')\n",
    "print(Octopus.number_of_octupi)"
   ]
  },
  {
   "attachments": {},
   "cell_type": "markdown",
   "metadata": {},
   "source": [
    "Classes should also work on their own, in case you move them to a different module.\n"
   ]
  },
  {
   "attachments": {},
   "cell_type": "markdown",
   "metadata": {},
   "source": [
    "#### Class methods and static methods"
   ]
  },
  {
   "attachments": {},
   "cell_type": "markdown",
   "metadata": {},
   "source": [
    "One final concept is class methods and static methods. To make a calss function, we replace the self argument which allows a method to operate for all instances with cls and add a decorator, indicated by @classmethod above the method"
   ]
  },
  {
   "cell_type": "code",
   "execution_count": null,
   "metadata": {},
   "outputs": [],
   "source": [
    "class Panda:\n",
    "    hours_slept = 24\n",
    "    def __init__(self,name):\n",
    "        self.name = name\n",
    "\n",
    "    @classmethod\n",
    "    def get_hours_slept(cls):\n",
    "        return cls.hours_slept\n",
    "\n",
    "print(Panda.get_hours_slept())"
   ]
  },
  {
   "attachments": {},
   "cell_type": "markdown",
   "metadata": {},
   "source": [
    "Note that the class method cannot be called the same as the class attribute. This is a way of accessing the class attribute or doing something to the class attribute without dealing with the specific instance of a class"
   ]
  },
  {
   "attachments": {},
   "cell_type": "markdown",
   "metadata": {},
   "source": [
    "It is also quite common to keep user defined functions within a class, so that they can be moved to different modules. This uses static methods. This is more an organisational thing, althought there are some instances where keeping the functions in one place is better"
   ]
  },
  {
   "cell_type": "code",
   "execution_count": null,
   "metadata": {},
   "outputs": [],
   "source": [
    "class Quail:\n",
    "\n",
    "    @staticmethod\n",
    "    def make_egg(eggs):\n",
    "        return eggs + 1\n",
    "\n",
    "print(Quail.make_egg(1))"
   ]
  }
 ],
 "metadata": {
  "kernelspec": {
   "display_name": "Python 3",
   "language": "python",
   "name": "python3"
  },
  "language_info": {
   "codemirror_mode": {
    "name": "ipython",
    "version": 3
   },
   "file_extension": ".py",
   "mimetype": "text/x-python",
   "name": "python",
   "nbconvert_exporter": "python",
   "pygments_lexer": "ipython3",
   "version": "3.11.0 (main, Oct 24 2022, 18:26:48) [MSC v.1933 64 bit (AMD64)]"
  },
  "orig_nbformat": 4,
  "vscode": {
   "interpreter": {
    "hash": "c51ff0908fa3e7b1170d96ccb7b98106d01f30c4033bd7e2c550f2be51ccd79c"
   }
  }
 },
 "nbformat": 4,
 "nbformat_minor": 2
}
