{
 "cells": [
  {
   "attachments": {},
   "cell_type": "markdown",
   "metadata": {},
   "source": [
    "# Chemometrics course - 3 clustering part 2"
   ]
  },
  {
   "attachments": {},
   "cell_type": "markdown",
   "metadata": {},
   "source": [
    "Dimensionality reduction - simplify data, reduce computation time and reduce redundancy\n",
    "compression - least squares replace two dimensional point by length from a line\n",
    "principal components - cost function\n",
    "\n",
    "find the highest variance line - project to 2D - \n",
    "directions are orthonormal\n",
    "\n",
    "PCA - finds linear combinations of original variables"
   ]
  }
 ],
 "metadata": {
  "language_info": {
   "name": "python"
  },
  "orig_nbformat": 4
 },
 "nbformat": 4,
 "nbformat_minor": 2
}
