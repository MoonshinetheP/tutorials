{
 "cells": [
  {
   "attachments": {},
   "cell_type": "markdown",
   "metadata": {},
   "source": [
    "# Chemometrics course - Introduction"
   ]
  },
  {
   "attachments": {},
   "cell_type": "markdown",
   "metadata": {},
   "source": [
    "---"
   ]
  },
  {
   "attachments": {},
   "cell_type": "markdown",
   "metadata": {},
   "source": [
    "univariate vs multivariate - first no contribution from other stuff, second is more relationship between variables, and analysis is not simple"
   ]
  },
  {
   "attachments": {},
   "cell_type": "markdown",
   "metadata": {},
   "source": [
    "usually we have few varibales and many samples, so no data is missing\n",
    "when we have similar numbers of even more variables than samples, this can cause issues\n",
    "in classincal approach you take one variable and find relationship in dat, but with multivariate we need to look at many simulataneous relationships"
   ]
  },
  {
   "attachments": {},
   "cell_type": "markdown",
   "metadata": {},
   "source": [
    "chemometrics is machine learning, data mining, pattern recognition and multivariate analysis (but these are all the same)"
   ]
  },
  {
   "attachments": {},
   "cell_type": "markdown",
   "metadata": {},
   "source": [
    "Arthur samluel - computers have the ability to learn without being programmed\n"
   ]
  },
  {
   "attachments": {},
   "cell_type": "markdown",
   "metadata": {},
   "source": [
    "Regression and cassification\n"
   ]
  },
  {
   "attachments": {},
   "cell_type": "markdown",
   "metadata": {},
   "source": [
    "design of experiments is identification of most important variable and determination of the best settings\n",
    "online penn stat cours stat 503"
   ]
  },
  {
   "attachments": {},
   "cell_type": "markdown",
   "metadata": {},
   "source": [
    "garbage in garbage out - does data make sense?\n",
    "fill in missing data\n",
    "remove noise\n",
    "center and scale\n",
    "identify outliers\n",
    "training vs. testing\n"
   ]
  },
  {
   "attachments": {},
   "cell_type": "markdown",
   "metadata": {},
   "source": [
    "fill in missing data \n",
    "remove row/column or add 0 or mean or most frequent or predicted values\n",
    "\n",
    "filter noise\n",
    "savitsky-golay or moving average\n",
    "\n",
    "baseline correction\n",
    "\n",
    "outliers - true or false? false are correct you just need to check further"
   ]
  },
  {
   "attachments": {},
   "cell_type": "markdown",
   "metadata": {},
   "source": [
    "unsupervised learning vs supervised\n",
    "\n",
    "for example, 500 variables - no way to easily see\n",
    "use something that can reduce datasets in interpretable sizes\n",
    "principal component analysis - transform data to have combination of variables\n",
    "clustering is unsupervises way of analsing similarity of two random points/vectors - very fast\n",
    "\n",
    "supervise\n",
    "\n",
    "regression - partial least squares so multiple variables\n",
    "\n",
    "classification\n",
    "predict based on one variable, what group the vector is in"
   ]
  }
 ],
 "metadata": {
  "kernelspec": {
   "display_name": "base",
   "language": "python",
   "name": "python3"
  },
  "language_info": {
   "name": "python",
   "version": "3.10.9"
  },
  "orig_nbformat": 4
 },
 "nbformat": 4,
 "nbformat_minor": 2
}
