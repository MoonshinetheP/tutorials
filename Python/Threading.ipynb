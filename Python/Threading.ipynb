{
 "cells": [
  {
   "attachments": {},
   "cell_type": "markdown",
   "metadata": {},
   "source": [
    "# CPUs\n",
    "---"
   ]
  },
  {
   "attachments": {},
   "cell_type": "markdown",
   "metadata": {},
   "source": [
    "In this lesson, we will learn:\n",
    "- the difference between compiled and interpreted programming languages\n",
    "- what the CPU in our computer does when we run code\n",
    "- how to speed up our code using threading and multiprocessing"
   ]
  },
  {
   "attachments": {},
   "cell_type": "markdown",
   "metadata": {},
   "source": [
    "#### CPU architecture"
   ]
  },
  {
   "attachments": {},
   "cell_type": "markdown",
   "metadata": {},
   "source": [
    "Computer processing units (CPUs) often contain a number of processing cores\\\n",
    "The amount of things that can be done at the same time is limited by the number of cores\\\n",
    "Parallelism is when whe have multiple operations happening at the same time, each on a different core\\\n",
    "An analogue is cars driving along a road - if there is only one lane, then only one car can pass a point at a time, whilst a road with four lanes can accomodate up to four cars at a time\\\n",
    "The clock speed of a processor is how fast each core can perform an operation\\For example, a cloak speed of 2.6 GHz means 2.6 billion operations per second per core\\\n",
    "We are limited to one operation per time unit of the clock speed, but computers are performing many tasks at the same time. How does the core handle all the requests at once?\\\n",
    "A thread is a set of operations that needs to happen on a core\\\n",
    "If a core has been given more than one thread, it needs to decide how to switch from one task to another - this is called threading\\\n",
    "We can see how many threads there currently are by going to the Task manager and looking at the CPU stats of the performance tab\\\n",
    "When a thread can stop, it is called hanging\\\n",
    "Hanging frees up a core to allow other operations and threads to be worked on\\\n",
    "This is called concurrent programming - not in parallel, but in different timing sequences with the core switching between threads in the excecution chain\\\n",
    "Imagine one CPU core running a code in which we print the number 1, wait for 10 s, and then print the number 2\\\n",
    "What we will see is the 1 being printed, a pause of 10 s, and then the 2 being printed.\\\n",
    "If we move the print 2 command onto another thread, we will instead see 1 being printed, then 2 being printed, then a 10 s wait\\\n",
    "The core switches threads upon the wait command, because there is nothing that needs to be done during this time\\\n",
    "This is useful for example in server responses, because instead of waiting for the server response to continue the next line of commands, you can continue whilst you wait\n"
   ]
  },
  {
   "attachments": {},
   "cell_type": "markdown",
   "metadata": {},
   "source": [
    "#### Concurrency vs. Parallelism"
   ]
  },
  {
   "attachments": {},
   "cell_type": "markdown",
   "metadata": {},
   "source": [
    "#### Threading in Python\n",
    "Now we will learn how to thread in Python. We need to start with importing the modules we will use"
   ]
  },
  {
   "cell_type": "code",
   "execution_count": 5,
   "metadata": {},
   "outputs": [],
   "source": [
    "import threading\n",
    "import time"
   ]
  },
  {
   "attachments": {},
   "cell_type": "markdown",
   "metadata": {},
   "source": [
    "Now we need to make something like a function which is going to act as our thread"
   ]
  },
  {
   "cell_type": "code",
   "execution_count": 6,
   "metadata": {},
   "outputs": [],
   "source": [
    "def func():\n",
    "    print('ran')\n",
    "    time.sleep(1)\n",
    "    print('done')"
   ]
  },
  {
   "attachments": {},
   "cell_type": "markdown",
   "metadata": {},
   "source": [
    "To turn this into a thread object we need to use the threading module. We will pass the function as our target but without brackets. If you want to pass arguments, you can place them inside the args tuple. Remember, a tuple of one still needs a comma to prevent python from reading it as a number."
   ]
  },
  {
   "cell_type": "code",
   "execution_count": 7,
   "metadata": {},
   "outputs": [],
   "source": [
    "x = threading.Thread(target = func, args = ())"
   ]
  },
  {
   "attachments": {},
   "cell_type": "markdown",
   "metadata": {},
   "source": [
    "To run a thread we need to call the start method on the thread object"
   ]
  },
  {
   "cell_type": "code",
   "execution_count": 8,
   "metadata": {},
   "outputs": [
    {
     "name": "stdout",
     "output_type": "stream",
     "text": [
      "ran\n"
     ]
    }
   ],
   "source": [
    "x.start()"
   ]
  },
  {
   "attachments": {},
   "cell_type": "markdown",
   "metadata": {},
   "source": [
    "The code on it's own runs as one thread, so when we run another thread our code has two threads. We can determine the number of active threads by printing the following code"
   ]
  },
  {
   "cell_type": "code",
   "execution_count": 11,
   "metadata": {},
   "outputs": [
    {
     "name": "stdout",
     "output_type": "stream",
     "text": [
      "6\n"
     ]
    }
   ],
   "source": [
    "print(threading.active_count())"
   ]
  },
  {
   "attachments": {},
   "cell_type": "markdown",
   "metadata": {},
   "source": [
    "Note that in this example, in our fabricated thread we print the first string, then switch back to the main thread upon hitting the sleep command, then go back into the fabricated thread after the end of the main thread"
   ]
  },
  {
   "attachments": {},
   "cell_type": "markdown",
   "metadata": {},
   "source": [
    "Let's now creat more than one thread"
   ]
  },
  {
   "cell_type": "code",
   "execution_count": 13,
   "metadata": {},
   "outputs": [
    {
     "name": "stdout",
     "output_type": "stream",
     "text": [
      "1\n",
      "1\n",
      "Done\n"
     ]
    },
    {
     "name": "stdout",
     "output_type": "stream",
     "text": [
      "2\n",
      "2\n",
      "3\n",
      "3\n",
      "4\n",
      "4\n",
      "5\n",
      "5\n",
      "6\n",
      "6\n",
      "7\n",
      "7\n",
      "8\n",
      "8\n",
      "9\n",
      "9\n",
      "10\n",
      "10\n"
     ]
    }
   ],
   "source": [
    "def count(n):\n",
    "    for i in range(1, n+1):\n",
    "        print(i)\n",
    "        time.sleep(0.01)\n",
    "\n",
    "for _ in range(2):\n",
    "    x = threading.Thread(target = count, args = (10,))\n",
    "    x.start()\n",
    "\n",
    "print('Done')"
   ]
  },
  {
   "attachments": {},
   "cell_type": "markdown",
   "metadata": {},
   "source": [
    "As you can see from the output, we get the first thread, the second thread, and then the main thread followed by one thread posting after another. If we play around with the thread and make the sleep period different, we will get different timings for each thread being produced, since one thread might sleep and then reactivate in the period another thread sleeps"
   ]
  },
  {
   "attachments": {},
   "cell_type": "markdown",
   "metadata": {},
   "source": [
    "Threads are not very safe when it comes to accessing global memory or global variables"
   ]
  },
  {
   "cell_type": "code",
   "execution_count": 14,
   "metadata": {},
   "outputs": [
    {
     "name": "stdout",
     "output_type": "stream",
     "text": [
      "[1, 1]\n"
     ]
    }
   ],
   "source": [
    "ls = []\n",
    "\n",
    "def add(n):\n",
    "    for i in range(1, n+1):\n",
    "        ls.append(i)\n",
    "        time.sleep(0.5)\n",
    "\n",
    "def add_again(n):\n",
    "    for i in range(1, n+1):\n",
    "        ls.append(i)\n",
    "        time.sleep(0.5)\n",
    "\n",
    "x = threading.Thread(target = add, args = (5,))\n",
    "x.start()\n",
    "\n",
    "y = threading.Thread(target = add, args = (5,))\n",
    "y.start()\n",
    "\n",
    "print(ls)"
   ]
  },
  {
   "attachments": {},
   "cell_type": "markdown",
   "metadata": {},
   "source": [
    "We can use the `.join()` method to make sure the main thread does not print the list before the two fabricated threads have been finished. It means do not move past this thread"
   ]
  },
  {
   "cell_type": "code",
   "execution_count": 15,
   "metadata": {},
   "outputs": [
    {
     "name": "stdout",
     "output_type": "stream",
     "text": [
      "[1, 1, 2, 2, 3, 3, 4, 4, 5, 5]\n"
     ]
    }
   ],
   "source": [
    "ls = []\n",
    "\n",
    "def add(n):\n",
    "    for i in range(1, n+1):\n",
    "        ls.append(i)\n",
    "        time.sleep(0.5)\n",
    "\n",
    "def add_again(n):\n",
    "    for i in range(1, n+1):\n",
    "        ls.append(i)\n",
    "        time.sleep(0.5)\n",
    "\n",
    "x = threading.Thread(target = add, args = (5,))\n",
    "x.start()\n",
    "\n",
    "y = threading.Thread(target = add, args = (5,))\n",
    "y.start()\n",
    "\n",
    "x.join()\n",
    "y.join()\n",
    "print(ls)"
   ]
  },
  {
   "attachments": {},
   "cell_type": "markdown",
   "metadata": {},
   "source": [
    "#### Asyncio"
   ]
  },
  {
   "attachments": {},
   "cell_type": "markdown",
   "metadata": {},
   "source": [
    "Running multiple tasks using the `threading` module means that the operating system knows about each trhead beforehand and switches at any time to a different thread. This is called pre-emptive multitasking."
   ]
  },
  {
   "attachments": {},
   "cell_type": "markdown",
   "metadata": {},
   "source": [
    "There is another module called `asyncio`, which uses cooperative multitasking. In this scenario, the thread must cooperate by announcing when it can be switched."
   ]
  },
  {
   "attachments": {},
   "cell_type": "markdown",
   "metadata": {},
   "source": [
    "#### Global Interpreter Lock (GIL)"
   ]
  },
  {
   "attachments": {},
   "cell_type": "markdown",
   "metadata": {},
   "source": [
    "#### Multiprocessing"
   ]
  },
  {
   "attachments": {},
   "cell_type": "markdown",
   "metadata": {},
   "source": [
    "#### Race conditions"
   ]
  }
 ],
 "metadata": {
  "kernelspec": {
   "display_name": "Python 3",
   "language": "python",
   "name": "python3"
  },
  "language_info": {
   "codemirror_mode": {
    "name": "ipython",
    "version": 3
   },
   "file_extension": ".py",
   "mimetype": "text/x-python",
   "name": "python",
   "nbconvert_exporter": "python",
   "pygments_lexer": "ipython3",
   "version": "3.11.0 (main, Oct 24 2022, 18:26:48) [MSC v.1933 64 bit (AMD64)]"
  },
  "orig_nbformat": 4,
  "vscode": {
   "interpreter": {
    "hash": "c51ff0908fa3e7b1170d96ccb7b98106d01f30c4033bd7e2c550f2be51ccd79c"
   }
  }
 },
 "nbformat": 4,
 "nbformat_minor": 2
}
