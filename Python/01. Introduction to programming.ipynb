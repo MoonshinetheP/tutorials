{
 "cells": [
  {
   "attachments": {},
   "cell_type": "markdown",
   "metadata": {},
   "source": [
    "# 1. Introduction to programming\n"
   ]
  },
  {
   "cell_type": "markdown",
   "metadata": {},
   "source": [
    "---"
   ]
  },
  {
   "attachments": {},
   "cell_type": "markdown",
   "metadata": {},
   "source": [
    "In this lesson, we will learn:\n",
    "- how computers work\n",
    "- how programming languages fit into the operation of computers\n",
    "- how to classify different programming languages"
   ]
  },
  {
   "attachments": {},
   "cell_type": "markdown",
   "metadata": {},
   "source": [
    "### Binary"
   ]
  },
  {
   "attachments": {},
   "cell_type": "markdown",
   "metadata": {},
   "source": [
    "Humans normally use numbers based on the decimal system, which uses a **base of 10**. This means there are 10 numbers (0, 1, 2, 3, 4, 5, 6, 7, 8, and 9) which are used to build all other numbers. If we separate each digit of a number into columns, we can represent the number in each column as the number times 10 to the power of the column number (starting from 0, right to left).  "
   ]
  },
  {
   "attachments": {},
   "cell_type": "markdown",
   "metadata": {},
   "source": [
    "Lets break down the number 237."
   ]
  },
  {
   "attachments": {},
   "cell_type": "markdown",
   "metadata": {},
   "source": [
    "|       2        |       3        |       7        |\n",
    "| :------------: | :------------: | :------------: |\n",
    "| 10<sup>2</sup> | 10<sup>1</sup> | 10<sup>0</sup> |\n",
    "|      100       |       10       |       1        |\n",
    "|      200       |       30       |       7        |\n"
   ]
  },
  {
   "attachments": {},
   "cell_type": "markdown",
   "metadata": {},
   "source": [
    "Our number is composed of 2 values of 100, 3 values of 10, and 7 values of 7."
   ]
  },
  {
   "attachments": {},
   "cell_type": "markdown",
   "metadata": {},
   "source": [
    "Why is this important to understand? Because computers use a different base system, **binary**."
   ]
  },
  {
   "attachments": {},
   "cell_type": "markdown",
   "metadata": {},
   "source": [
    "Binary is a numerical system built on a base of 2. This means there are two numbers (0 and 1) used to build all other numbers. Once again, we can separate each digit of a number into columns, and we can represent the number in each column as the number times 2 to the power of the column number (starting from 0, right to left)."
   ]
  },
  {
   "attachments": {},
   "cell_type": "markdown",
   "metadata": {},
   "source": [
    "|       1       |       0       |       1       |       1       |\n",
    "| :-----------: | :-----------: | :-----------: | :-----------: |\n",
    "| 2<sup>3</sup> | 2<sup>2</sup> | 2<sup>1</sup> | 2<sup>0</sup> |\n",
    "|       8       |       4       |       2       |       1       |\n",
    "|               |               |       10       |       1       |"
   ]
  },
  {
   "attachments": {},
   "cell_type": "markdown",
   "metadata": {},
   "source": [
    "Our number is composed of a one 8, one 2, and one 1."
   ]
  },
  {
   "attachments": {},
   "cell_type": "markdown",
   "metadata": {},
   "source": [
    "We say that computers use binary, but in reality there are no 1s and 0s floating around the computer. These values are represented by high and low voltages moving around the circuitry. In digital logic, the voltage value of 1 is 5 V and the value of 0 is 0 V. However, to allow for errors in the voltage we normally accept anything above 3 V as 1 and anything below 0.8 V as 0. Part of the reason we use a binary system is because accounting for varying levels of 'on' and 'off' can be challenging when compared to reading a simple 1 or 0. Another reason is that it allows us to perform logical operations on binary data, forming the basis of computing."
   ]
  },
  {
   "attachments": {},
   "cell_type": "markdown",
   "metadata": {},
   "source": [
    "### CPU architecture"
   ]
  },
  {
   "attachments": {},
   "cell_type": "markdown",
   "metadata": {},
   "source": [
    "If we want to understand how our computer works we need to look towards the the central processing unit (CPU). This is a component of electronic circuitry that performs operations using **machine code** in order to get our computer to do something."
   ]
  },
  {
   "attachments": {},
   "cell_type": "markdown",
   "metadata": {},
   "source": [
    "Machine code is basically binary, but it can also be represented with a hexidecimal number system.\n"
   ]
  },
  {
   "attachments": {},
   "cell_type": "markdown",
   "metadata": {},
   "source": [
    "For example, lets look at the digits `9`, `14`, `0`, and `10`."
   ]
  },
  {
   "attachments": {},
   "cell_type": "markdown",
   "metadata": {},
   "source": [
    "In binary, this is written as:\\\n",
    "`1001 1110 0000 1010`"
   ]
  },
  {
   "cell_type": "code",
   "execution_count": null,
   "metadata": {},
   "outputs": [],
   "source": []
  },
  {
   "cell_type": "markdown",
   "metadata": {},
   "source": [
    "In hexadecimal, this is written as:\\\n",
    "`9E0A`"
   ]
  },
  {
   "attachments": {},
   "cell_type": "markdown",
   "metadata": {},
   "source": [
    "bios\\\n"
   ]
  },
  {
   "cell_type": "code",
   "execution_count": null,
   "metadata": {},
   "outputs": [],
   "source": []
  },
  {
   "attachments": {},
   "cell_type": "markdown",
   "metadata": {},
   "source": [
    "#### CPU architecture"
   ]
  },
  {
   "attachments": {},
   "cell_type": "markdown",
   "metadata": {},
   "source": [
    "### Where does our programming language fit in?"
   ]
  },
  {
   "attachments": {},
   "cell_type": "markdown",
   "metadata": {},
   "source": [
    "##### Compiled vs. interpreted programming"
   ]
  },
  {
   "attachments": {},
   "cell_type": "markdown",
   "metadata": {},
   "source": [
    "##### Low level vs. high level"
   ]
  }
 ],
 "metadata": {
  "kernelspec": {
   "display_name": "base",
   "language": "python",
   "name": "python3"
  },
  "language_info": {
   "codemirror_mode": {
    "name": "ipython",
    "version": 3
   },
   "file_extension": ".py",
   "mimetype": "text/x-python",
   "name": "python",
   "nbconvert_exporter": "python",
   "pygments_lexer": "ipython3",
   "version": "3.10.8 | packaged by conda-forge | (main, Nov 24 2022, 14:07:00) [MSC v.1916 64 bit (AMD64)]"
  },
  "orig_nbformat": 4,
  "vscode": {
   "interpreter": {
    "hash": "517e84db4b6dcaa5bbb4792b4b12736fd6b06e1018420a4aff003fffbb6a0727"
   }
  }
 },
 "nbformat": 4,
 "nbformat_minor": 2
}
