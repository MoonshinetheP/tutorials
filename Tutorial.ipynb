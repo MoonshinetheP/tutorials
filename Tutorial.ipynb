{
 "cells": [
  {
   "attachments": {},
   "cell_type": "markdown",
   "metadata": {},
   "source": [
    "# Python Tutorial"
   ]
  },
  {
   "attachments": {},
   "cell_type": "markdown",
   "metadata": {},
   "source": [
    "### Set-up\n",
    "Make sure to save file in .py format \\\n",
    "Command Palette --> Python: Select Interpreter --> Python 3.7.6 64-bit ('base':conda)"
   ]
  },
  {
   "attachments": {},
   "cell_type": "markdown",
   "metadata": {},
   "source": [
    "### Terminal"
   ]
  },
  {
   "attachments": {},
   "cell_type": "markdown",
   "metadata": {},
   "source": [
    "Downloading python and preferred text editor\n",
    "Git\n",
    "Terminal\n",
    "PIP"
   ]
  },
  {
   "cell_type": "code",
   "execution_count": 1,
   "metadata": {},
   "outputs": [
    {
     "name": "stdout",
     "output_type": "stream",
     "text": [
      "[0, 1, 2, 0, 1, 2]\n"
     ]
    }
   ],
   "source": [
    "y = 2\n",
    "x = [0, 1, 2]\n",
    "z = x * y\n",
    "print(z)"
   ]
  },
  {
   "attachments": {},
   "cell_type": "markdown",
   "metadata": {},
   "source": [
    "Variables\n",
    "Conditions\n",
    "Chained Conditionals\n",
    "Operators\n",
    "Control Flow (If/Else)\n",
    "Loops and Iterables\n",
    "Basic Data Structures\n",
    "Functions\n",
    "Mutable vs Immutable\n",
    "Common Methods\n",
    "File IO\n",
    "Object Oriented Programming\n",
    "Data Structures\n",
    "Comprehensions\n",
    "Lambda Functions\n",
    "Map, Filter\n",
    "Collections\n",
    "*args & **kwargs\n",
    "Inheritance\n",
    "Dunder Methods\n",
    "PIP\n",
    "Environments\n",
    "Modules\n",
    "Async IO\n",
    "Decorators\n",
    "Generators\n",
    "Context Managers\n",
    "Metaclasses\n",
    "Concurrency\n",
    "Parallelism\n",
    "Testing\n",
    "Packages\n",
    "Cython"
   ]
  }
 ],
 "metadata": {
  "kernelspec": {
   "display_name": "Python 3",
   "language": "python",
   "name": "python3"
  },
  "language_info": {
   "codemirror_mode": {
    "name": "ipython",
    "version": 3
   },
   "file_extension": ".py",
   "mimetype": "text/x-python",
   "name": "python",
   "nbconvert_exporter": "python",
   "pygments_lexer": "ipython3",
   "version": "3.11.0 (main, Oct 24 2022, 18:26:48) [MSC v.1933 64 bit (AMD64)]"
  },
  "orig_nbformat": 4,
  "vscode": {
   "interpreter": {
    "hash": "c51ff0908fa3e7b1170d96ccb7b98106d01f30c4033bd7e2c550f2be51ccd79c"
   }
  }
 },
 "nbformat": 4,
 "nbformat_minor": 2
}
