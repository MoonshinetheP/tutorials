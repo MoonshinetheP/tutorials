{
 "cells": [
  {
   "attachments": {},
   "cell_type": "markdown",
   "metadata": {},
   "source": [
    "# Open science with MATLAB - by Shubo Chakrabarti"
   ]
  },
  {
   "attachments": {},
   "cell_type": "markdown",
   "metadata": {},
   "source": [
    "Open science with MATLAB - putting MATLAB code online"
   ]
  },
  {
   "attachments": {},
   "cell_type": "markdown",
   "metadata": {},
   "source": [
    "People do analysis in MATLAB, then convert to Python to put online. This guy is talking about how the MATLAB code can be shared."
   ]
  },
  {
   "attachments": {},
   "cell_type": "markdown",
   "metadata": {},
   "source": [
    "MATLAB is proprietry software, so how can it be used in Open Science?"
   ]
  },
  {
   "attachments": {},
   "cell_type": "markdown",
   "metadata": {},
   "source": [
    "You can use MATLAB, build a code, and then redistribute the model. You can also reuse and reproduce code written in MATLAB (some is closed off from users for 'speed', but also to keep proprietry)"
   ]
  },
  {
   "attachments": {},
   "cell_type": "markdown",
   "metadata": {},
   "source": [
    "You cannot copy, modify or redistribute MATLAB source codes (not your own)"
   ]
  },
  {
   "attachments": {},
   "cell_type": "markdown",
   "metadata": {},
   "source": [
    "Challenges to science:\n",
    "1. More data than ever, difficult to label and access\n",
    "2. Need more complex algorithms to deal with data (i.e. AI), but not everyone is an AI expert\n",
    "3. Research needs to be very collaborative"
   ]
  },
  {
   "attachments": {},
   "cell_type": "markdown",
   "metadata": {},
   "source": [
    "Open science is a initiative to combat the challenges facing science. We want to analyse open data collaboratively, with assistance from AI and algorithms if needed."
   ]
  },
  {
   "attachments": {},
   "cell_type": "markdown",
   "metadata": {},
   "source": [
    "Philosophy of MATLAB is to make things easier for the user (programming for scientists)"
   ]
  },
  {
   "attachments": {},
   "cell_type": "markdown",
   "metadata": {},
   "source": [
    "MATLAB is compatible with a wide range of scientific data formats, including discipline specific formats and community driven formats that can be downloaded as add-ons"
   ]
  },
  {
   "attachments": {},
   "cell_type": "markdown",
   "metadata": {},
   "source": [
    "MATLAB allows you to access datasets from not just GitHub, but also AWS and other repositroy host websites, straight from MATLAB through an add-on"
   ]
  },
  {
   "attachments": {},
   "cell_type": "markdown",
   "metadata": {},
   "source": [
    "You can use MATLAB on Jupyter notebooks, but you need to point it to a license - allows for collaboration"
   ]
  }
 ],
 "metadata": {
  "language_info": {
   "name": "python"
  },
  "orig_nbformat": 4
 },
 "nbformat": 4,
 "nbformat_minor": 2
}
