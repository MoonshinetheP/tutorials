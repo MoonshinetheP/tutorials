{
 "cells": [
  {
   "cell_type": "markdown",
   "metadata": {},
   "source": [
    "# 2. Variables"
   ]
  },
  {
   "cell_type": "markdown",
   "metadata": {},
   "source": [
    "---"
   ]
  },
  {
   "cell_type": "markdown",
   "metadata": {},
   "source": [
    "In this lesson, we will learn:\n",
    "- how to store data in variables\n",
    "- what types of data we can use"
   ]
  },
  {
   "cell_type": "markdown",
   "metadata": {},
   "source": [
    "---"
   ]
  },
  {
   "cell_type": "markdown",
   "metadata": {},
   "source": [
    "C++ is case sensititve and so variables and keywords neeed to match \n",
    "variables are names whcih represent areas in the computers memory that store data\n",
    "\n",
    "there are different types of data:\n",
    "int - integer numbers\n",
    "double - floating point numbers\n",
    "char - individual characters\n",
    "string - a sequence of characters\n",
    "bool - true/false values\n",
    "\n",
    "Each type has different amounts of memory needed to hold the variable and differnt things you can do with it\n",
    "\n",
    "Every variable in C++ must be declared before it can be used\n",
    "\n",
    "this involves declaring the type and the name\n",
    "\n",
    "after declaring the variable, we can give it a value using a single `=` sign (assign)\n",
    "\n",
    "We can also declare and assign (initialise) in the same line\n",
    "\n",
    "We can manipulate the variables using arithmetic operators:\n",
    "- +\n",
    "- -\n",
    "- *\n",
    "- /\n",
    "- %\n",
    "\n",
    "When outputting a variable, you don't need to include the `\" \"`, you can just call the variable\n",
    "`std::cout << variable << \"\\n\"`\n",
    "\n",
    "Here the `<<` operator is chaining the objects together\n",
    "\n",
    "cin allows for character input\n",
    ">> stands for get from operator\n",
    "It will ask you to type something in terminal and enter\n",
    "\n",
    "cmath is a library with some maths functions\n",
    "std::sqrt()\n",
    "\n",
    "int age = 28;\n",
    "\n",
    "double price = 8.99;\n",
    "\n",
    "char grade = 'A';\n",
    "\n",
    "std::string message = \"Game Over\";\n",
    "\n",
    "bool late_to_work = true;\n",
    "\n",
    "const keeps the variable constant during execution\n",
    "\n",
    "datatype modifiers can modify the length of data that is saved\n",
    "\n",
    "(type) value means convert value to datatype type. double to int just removes the decimal, same as rounding down in effect"
   ]
  }
 ],
 "metadata": {
  "language_info": {
   "name": "python"
  }
 },
 "nbformat": 4,
 "nbformat_minor": 2
}
