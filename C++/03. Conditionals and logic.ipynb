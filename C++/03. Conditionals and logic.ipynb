{
 "cells": [
  {
   "cell_type": "markdown",
   "metadata": {},
   "source": [
    "# Conditionals and logic"
   ]
  },
  {
   "cell_type": "markdown",
   "metadata": {},
   "source": [
    "---"
   ]
  },
  {
   "cell_type": "code",
   "execution_count": null,
   "metadata": {
    "vscode": {
     "languageId": "snippets"
    }
   },
   "outputs": [],
   "source": [
    "if (condition) {\n",
    "\n",
    "  some code\n",
    "\n",
    "}"
   ]
  },
  {
   "cell_type": "markdown",
   "metadata": {},
   "source": [
    "the condition inside the parentheses must equate to true or false"
   ]
  },
  {
   "cell_type": "markdown",
   "metadata": {},
   "source": [
    "To have a condition, we need relational operators:\n",
    "\n",
    "== equal to\n",
    "!= not equal to\n",
    "> greater than\n",
    "< less than\n",
    ">= greater than or equal to\n",
    "<= less than or equal to"
   ]
  },
  {
   "cell_type": "markdown",
   "metadata": {},
   "source": [
    "if (condition) {\n",
    "\n",
    "  do something\n",
    "\n",
    "} else {\n",
    "\n",
    "  do something else\n",
    "\n",
    "}"
   ]
  },
  {
   "cell_type": "markdown",
   "metadata": {},
   "source": [
    "if (condition) {\n",
    "\n",
    "  some code\n",
    "\n",
    "} else if (condition) {\n",
    "\n",
    "  some code\n",
    "\n",
    "} else {\n",
    "\n",
    "  some code\n",
    "\n",
    "}\n"
   ]
  },
  {
   "cell_type": "markdown",
   "metadata": {},
   "source": [
    "A switch statement can be used to simplify the process of writing multiple else if statements. The break keyword stops the remaining cases from being checked and executed in a switch statemen. A switch statement provides an alternative syntax that is easier to read and write. However, you are going to find these less frequently than if, else if, else in the wild.\n",
    "\n",
    "A switch statement looks like this:\n",
    "\n",
    "switch (grade) {\n",
    "  \n",
    "  case 9:\n",
    "    std::cout << \"Freshman\\n\";\n",
    "    break;\n",
    "  case 10:\n",
    "    std::cout << \"Sophomore\\n\";\n",
    "    break;\n",
    "  case 11:\n",
    "    std::cout << \"Junior\\n\";\n",
    "    break;\n",
    "  case 12:\n",
    "    std::cout << \"Senior\\n\";\n",
    "    break;\n",
    "  default:\n",
    "    std::cout << \"Invalid\\n\";\n",
    "    break;\n",
    "\n"
   ]
  },
  {
   "cell_type": "markdown",
   "metadata": {},
   "source": [
    "ne restriction on this expression is that it must evaluate to an integral type (int, char, short, long, long long, or enum).\n",
    "\n",
    "At the end of each switch statement, there is a default statement. If none of the cases are true, then the code in the default statement will run. It’s essentially the else part.\n",
    "\n",
    " Without the break keyword at the end of each case, the program would execute the code for the first matching case and all subsequent cases, including the default code"
   ]
  },
  {
   "cell_type": "markdown",
   "metadata": {},
   "source": [
    "### Logical operators"
   ]
  },
  {
   "cell_type": "markdown",
   "metadata": {},
   "source": [
    "when we are trying to create a control flow for our program, we’ll encounter situations where the logic cannot be satisfied with a single condition.\n",
    "\n",
    "Logical operators are used to combine two or more conditions. \n",
    "\n",
    "The result of the operation of a logical operator is a bool value of either true or false\n",
    "\n",
    "&& is and\n",
    "\n",
    "|| is or\n",
    "! is not (reverses the bool outcome of the expression that immedietely follows)\n",
    "\n",
    "keywords can also be used in place of symbols"
   ]
  },
  {
   "cell_type": "code",
   "execution_count": null,
   "metadata": {
    "vscode": {
     "languageId": "snippets"
    }
   },
   "outputs": [],
   "source": [
    "srand(time(NULL));\n",
    "  int answer = std::rand() % 10;"
   ]
  },
  {
   "cell_type": "markdown",
   "metadata": {},
   "source": [
    "The code above gives you a random number between 0 and 9. The srand statement resets the seed of the random number generator"
   ]
  }
 ],
 "metadata": {
  "language_info": {
   "name": "python"
  }
 },
 "nbformat": 4,
 "nbformat_minor": 2
}
