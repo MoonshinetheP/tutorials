{
 "cells": [
  {
   "cell_type": "markdown",
   "metadata": {},
   "source": [
    "# 1. Introduction to C++"
   ]
  },
  {
   "cell_type": "markdown",
   "metadata": {},
   "source": [
    "---"
   ]
  },
  {
   "cell_type": "markdown",
   "metadata": {},
   "source": [
    "In this lesson we will learn:\n",
    "\n",
    "- the difference between C++ and other programming languages\n",
    "- how to write a programme in C++\n",
    "- how to compile and execute programmes written in C++"
   ]
  },
  {
   "cell_type": "markdown",
   "metadata": {},
   "source": [
    "---"
   ]
  },
  {
   "cell_type": "markdown",
   "metadata": {},
   "source": [
    "### What is C++?"
   ]
  },
  {
   "cell_type": "markdown",
   "metadata": {},
   "source": [
    "C++ is a language derived from C but with the inclusion of object oriented programming. Since C itself is a portable low-level language, C++ inherits its speed and flexibility. Like C, C++ is a compiled language which means that before running the source code, it needs to be translated to the lower level machine code using a compiler. \n",
    "\n"
   ]
  },
  {
   "cell_type": "markdown",
   "metadata": {},
   "source": [
    "### Making changes\n"
   ]
  },
  {
   "cell_type": "markdown",
   "metadata": {},
   "source": [
    "Programme files written in C++ have the .cpp file ending. In order to change your programme, you need to save the file\n",
    "\n",
    "1. Code the programme\n",
    "2. Save the programme\n",
    "3. Compile via terminal\n",
    "4. Execute via terminal\n"
   ]
  },
  {
   "cell_type": "markdown",
   "metadata": {},
   "source": [
    "### Writing a programme"
   ]
  },
  {
   "cell_type": "markdown",
   "metadata": {},
   "source": [
    "\n",
    "C++ programmes are run through line by line. An example C++ programme may look like:\n"
   ]
  },
  {
   "cell_type": "code",
   "execution_count": null,
   "metadata": {
    "vscode": {
     "languageId": "cpp"
    }
   },
   "outputs": [],
   "source": [
    "#include <iostream>\n",
    "\n",
    "int main() {\n",
    "\n",
    "  std::cout << \"Hello World!\\n\";\n",
    "  \n",
    "}"
   ]
  },
  {
   "cell_type": "markdown",
   "metadata": {},
   "source": [
    "Let's break down the elements of this C++ programme:"
   ]
  },
  {
   "cell_type": "markdown",
   "metadata": {},
   "source": [
    "\n",
    "- First we need to inlude all of the libraries we want to use. The hashtag character (`#`) is a pre-processor directive, which instructs the compiler to locate the files containing the code for the indicated library. In the example above, we ask the compiler to find the iostream library, which allows for input from the keyboard and output to the terminal window."
   ]
  },
  {
   "cell_type": "markdown",
   "metadata": {},
   "source": [
    "- Then we need to initialise the main function, which contains all the source code that the computer will execute inside the curly brackets. Every C++ programme needs to have a main() funtion, but additional functions can also be added."
   ]
  },
  {
   "cell_type": "markdown",
   "metadata": {},
   "source": [
    "- Then we start writing the programme inside the curly brackets of the main function. The term `std::cout` stands for character output, and will display the characters passed to it on the terminal. The `<<` term is an operator used to indicate the characters we want to print to the terminal. The string of characters we want to print is held inside the `\" \"` symbols. Each statement then ends with the `;` symbol, to tell the compiler to move on to the next statement."
   ]
  },
  {
   "cell_type": "markdown",
   "metadata": {},
   "source": [
    "- The \"::\" operator is the \"scope\" operator. It tells the compiler which class/namespace to look in for an identifier. So std::cout tells the compiler that you want the \"cout\" identifier, and that it is in the \"std\" namespace. If you just said cout then it will only look in the global namespace"
   ]
  },
  {
   "cell_type": "markdown",
   "metadata": {},
   "source": [
    "- White space is ignored in C++, so spacing can be introduced in order to make the code more readable."
   ]
  },
  {
   "cell_type": "markdown",
   "metadata": {},
   "source": [
    "\n",
    "If the function features a `return` statement, no code after this statement will be executed and the function will end, outputting the value stated after `return`.\n"
   ]
  },
  {
   "cell_type": "markdown",
   "metadata": {},
   "source": [
    "### Commenting"
   ]
  },
  {
   "cell_type": "markdown",
   "metadata": {},
   "source": [
    "\n",
    "Single line comments can be added using a `//` term. All characters after this symbol will be ignored. Single line comments can be placed either on their own line or after a line of code. Multi-line comments can be made by adding a `/*` before and after the comment text."
   ]
  },
  {
   "cell_type": "markdown",
   "metadata": {},
   "source": [
    "### Compiling from terminal"
   ]
  },
  {
   "cell_type": "markdown",
   "metadata": {},
   "source": [
    "\n",
    "call on the compiler using g++ followed by the file name\n",
    "\n",
    "The compiler translates the C++ source code and creates a machine code file called a.out\n",
    "\n",
    "\n",
    "he executable file can be given an exact name by writing -o and then the name after the compile command\n",
    "\n",
    "g++ file.cpp -o name\n",
    "\n",
    "\n",
    "https://www.msys2.org and add to path\n",
    "\n",
    "\n"
   ]
  },
  {
   "cell_type": "markdown",
   "metadata": {},
   "source": [
    "### Executing from terminal"
   ]
  },
  {
   "cell_type": "markdown",
   "metadata": {},
   "source": [
    "To execute the a.out file, type ./ and the machine code file name into the terminal (no spaces). The file is then loaded to computer memory"
   ]
  }
 ],
 "metadata": {
  "language_info": {
   "name": "python"
  }
 },
 "nbformat": 4,
 "nbformat_minor": 2
}
