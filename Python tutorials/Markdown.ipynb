{
 "cells": [
  {
   "attachments": {},
   "cell_type": "markdown",
   "metadata": {},
   "source": [
    "# Markdown\n",
    "---"
   ]
  },
  {
   "attachments": {},
   "cell_type": "markdown",
   "metadata": {},
   "source": [
    "In this lesson, we will learn:\n",
    "- what Markdown is \n",
    "- what it is used for\n",
    "- how to write in Markdown"
   ]
  },
  {
   "attachments": {},
   "cell_type": "markdown",
   "metadata": {},
   "source": [
    "### What is Markdown?\n",
    "Markdown is a text-to-HTML conversion tool which allows us to write HTML in a plain text format. It is both a plain text syntax and a software tool for conversion."
   ]
  },
  {
   "attachments": {},
   "cell_type": "markdown",
   "metadata": {},
   "source": [
    "Markdown is almost something between a word processor and HTML. "
   ]
  },
  {
   "cell_type": "markdown",
   "metadata": {},
   "source": [
    "Word processors are very easy to use, since you just write in plain text and then apply different formattings (*i.e.* bold, italics, bullet points, ...) through buttons. This is often a bit overkill, since you will rarely use all the features of the word processor. Also, the text written in the word processor does not translate to other applications, such as designing websites. For that we need a high level language like HTML.\n"
   ]
  },
  {
   "attachments": {},
   "cell_type": "markdown",
   "metadata": {},
   "source": [
    "HTML requires less in order to format the plain text, since you call labels on the plain text you want to format. HTML is more expressive than Markdown, but has a higher learning curve."
   ]
  },
  {
   "attachments": {},
   "cell_type": "markdown",
   "metadata": {},
   "source": [
    "Markdown is comprised of punctuation marks to replace HTML labels, making it easier to write in plain text. However, you are also allowed to add HTML when you want to do something which has no equivalent in Markdown, such as underlining text.\n",
    "\n"
   ]
  },
  {
   "attachments": {},
   "cell_type": "markdown",
   "metadata": {},
   "source": [
    "### Markdown formatting"
   ]
  },
  {
   "attachments": {},
   "cell_type": "markdown",
   "metadata": {},
   "source": [
    "Below is a table with some Markdown syntax examples, HTML equivalents, and a description of what these can do."
   ]
  },
  {
   "attachments": {},
   "cell_type": "markdown",
   "metadata": {},
   "source": [
    "|  Markdown  |                 HTML                  | Corresponding formatting                                                                                                                                 |\n",
    "| :--------: | :-----------------------------------: | :------------------------------------------------------------------------------------------------------------------------------------------------------- |\n",
    "|     #      | `<h1></h1>` <br> ... <br> `<h6></h6>` | Used in front of text to denote a heading. The number of (#)s can vary between 1 and 6, with 1 giving the largest heading size and 6 giving the smallest |\n",
    "|   * or _   |              `<em></em>`              | Placed at the start and end of a word, phrase, or line in order to italicise the text                                                                    |\n",
    "|     **     |          `<strong></strong>`          | Placed at the start and end of a word, phrase, or line to make it bold                                                                                   |\n",
    "|    ***     |     `<em><strong></strong></em>`      | Placed at the start and end of a word, phrase, or line in order to make the text bold and italic                                                                                                                      |\n",
    "|     ~      |               `<s></s>`               | Placed at the start and end of a word, phrase, or line to give it strikethrough                                                                          |\n",
    "| +, -, or * |              `<ul></ul>`              | Used at the start of a line in order to make that line part of an unordered list (bullet points)                                                         |\n",
    "|     1.     |              `<ol></ol>`              | Used at the start of the line to make that line part of an ordered list. First item in the list must be a 1.                                             |\n",
    "|    ---     |                `<hr>`                 | Replaces this line with a horizontal line                                                                                                                |\n",
    "| blank line |               `<p></p>`               | Starts a new paragraph                                                                                                                                   |\n",
    "|     \\      |                `<br>`                 | Adds a line break                                                                                                                                        |\n",
    "|     >      |      `<blockquote></blockquote`>      | Adds a blockquote                                                                                                                                        |\n",
    "|     >>     |                  N/A                  | Adds a nested blockquote                                                                                                                                 |\n",
    "|     \\`     |            `<code></code>`            | Dode within these markers appears as code would in and IDE                                                                                           |"
   ]
  },
  {
   "attachments": {},
   "cell_type": "markdown",
   "metadata": {},
   "source": [
    "### Processing Markdown\n"
   ]
  },
  {
   "attachments": {},
   "cell_type": "markdown",
   "metadata": {},
   "source": [
    "We need an application which can read Markdown and convert it to HTML with a processor or parser."
   ]
  },
  {
   "attachments": {},
   "cell_type": "markdown",
   "metadata": {},
   "source": [
    "Markdown is used in applications such as GitHub, Skype, Wikipedia, and many others. It is useful for website design, documentation, emails"
   ]
  }
 ],
 "metadata": {
  "kernelspec": {
   "display_name": "Python 3",
   "language": "python",
   "name": "python3"
  },
  "language_info": {
   "name": "python",
   "version": "3.11.0 (main, Oct 24 2022, 18:26:48) [MSC v.1933 64 bit (AMD64)]"
  },
  "orig_nbformat": 4,
  "vscode": {
   "interpreter": {
    "hash": "c51ff0908fa3e7b1170d96ccb7b98106d01f30c4033bd7e2c550f2be51ccd79c"
   }
  }
 },
 "nbformat": 4,
 "nbformat_minor": 2
}
