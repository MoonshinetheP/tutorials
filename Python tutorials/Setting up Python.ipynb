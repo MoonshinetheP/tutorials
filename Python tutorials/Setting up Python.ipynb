{
 "cells": [
  {
   "attachments": {},
   "cell_type": "markdown",
   "metadata": {},
   "source": [
    "# Python and Git Installation\n",
    "---"
   ]
  },
  {
   "attachments": {},
   "cell_type": "markdown",
   "metadata": {},
   "source": [
    "In this lesson, we will learn:\n",
    "- how to install both the Python and the Git languages\n",
    "- what IDEs are and how they can be used\n",
    "- the pros and cons of using a package manager"
   ]
  },
  {
   "attachments": {},
   "cell_type": "markdown",
   "metadata": {},
   "source": [
    "---"
   ]
  },
  {
   "attachments": {},
   "cell_type": "markdown",
   "metadata": {},
   "source": [
    "### Integrated development environments (IDEs)"
   ]
  },
  {
   "attachments": {},
   "cell_type": "markdown",
   "metadata": {},
   "source": [
    "During this course, we will be writing code like this:"
   ]
  },
  {
   "cell_type": "code",
   "execution_count": null,
   "metadata": {},
   "outputs": [],
   "source": [
    "class Student:\n",
    "    '''A class for making student instances with names, surnames, and grade'''\n",
    "    def __init__(self,name,surname,grade):\n",
    "        self.name = name\n",
    "        self.surname = surname\n",
    "        self.grade = grade\n",
    "    \n",
    "    def get_grade(self):\n",
    "        '''Returns the grade of the student'''\n",
    "        return self.grade\n",
    "    \n",
    "student1 = Student('Steven','Linfield','81')\n",
    "print(student1.get_grade())"
   ]
  },
  {
   "attachments": {},
   "cell_type": "markdown",
   "metadata": {},
   "source": [
    "But before we get there, we need to answer one simple question - ***where should we write our Python code?***"
   ]
  },
  {
   "attachments": {},
   "cell_type": "markdown",
   "metadata": {},
   "source": [
    "\n",
    "**What if we write this code in a Microsoft Word document?**\\\n",
    "We might be able to replicate the appearance of the above code in Word, making it more readable and easier to understand the individual elements of this code (note the different highlighting for functions, classes, comments, *etc.*). However, the Word programme is designed to make .doc files, which cannot be used to run Python scripts. We will need something that can save in a .py file extension.\n",
    "\n",
    "**What about writing and saving in a Notepad file?**\\\n",
    "We can save Notepad files in the .py extension and execute them through the command prompt. However, if we make a mistake in our code, then Notepad won't detect it and we may spend forever looking for our bugs. Notepad doesn't allow us to easily structure our code or colour coordinate different elements of the code. As a result, it can be a little difficult to read code written in Notepad, especially as our code gets larger and more complicated.\n",
    "\n",
    "**Can we code directly in the Command Prompt?**\\\n",
    "We can use the `python` environment prompt in the Command Prompt (or in Powershell, which is a more powerful version of Command Prompt). In this environment, we can execute any code we would have in a .py file without requiring the file itself. Of course, this means we would not be able to save our Python scripts, which means we have to rewrite everything again each time we want to edit our code. Whilst we will use the Command Prompt at several points during this course, it is also possible to delete important folders from our computer if we are not careful, so it is also a good idea to avoid it as an editor for this reason alone."
   ]
  },
  {
   "attachments": {},
   "cell_type": "markdown",
   "metadata": {},
   "source": [
    "We would love to have some software where we could:\n",
    "- write structured and organised code\n",
    "- send our code to be executed by our computer (without needing the Command Prompt)\n",
    "- save our code and come back to it later\n",
    "\n",
    "and where we might still be able to use the Command Prompt to:\n",
    "- excecute simple Python code when we need to\n",
    "- manage folder structures, file versions, and extras for our language"
   ]
  },
  {
   "attachments": {},
   "cell_type": "markdown",
   "metadata": {},
   "source": [
    "This is where Integrated Development Environments (or IDEs) come in to play. These are software platforms with a text editor GUI that is designed to help programmers write, debug, and execute code. Many of them come with extra features, such as:\n",
    "- differentation of code elements with variable colour schemes\n",
    "- explanations of code elements and all of their possible arguments\n",
    "- extensions and add-ons to make our coding experience simpler\n",
    "\n",
    "They often also allow access to the Command Prompt directly from the software, meaning you don't have to go anywhere else."
   ]
  },
  {
   "attachments": {},
   "cell_type": "markdown",
   "metadata": {},
   "source": [
    "There are a number of IDEs you can choose from, some paid and some free. So long as the IDE supports writing in the coding language you are using, which one you use comes down to personal preference more than anything else. Options include **Visual Studio**, **VS Code**, **PyCharm**, and many more. **VS Code** is probably the most popular IDE, due to its large community, its extensive tutorials and troubleshooting, its wide array of available extensions, and its support for many different programming languages. In this course, we will be using VS Code, but feel free to use whichever IDE you prefer - just be aware that not everything we discuss may be available on other IDEs. You can also find **text editors** which are more sophisticated than Notepad, but you will still need to run your scripts from a Command Prompt."
   ]
  },
  {
   "attachments": {},
   "cell_type": "markdown",
   "metadata": {},
   "source": [
    "Generally we start by opening a new file and saving it as a .py extension. That way, our IDE or text editor knows we are writing in Python and can offer support for our code. Then we can start writing! Watch out though, as we haven't yet installed the Python language on our computer, so we cannot make .py extensions or run Python code yet. We will do this next, don't worry.\n",
    "\n",
    "For specifics on how to use your IDE or text editor, it is better to watch a tutorial. There are many topics we will cover, including debugging, testing, version control, and Notebooks, but we will not be able to cover the whole of VS Code in this course. Other topics, such as preferences, colour schemes, extensions, *etc.* will not be touched, so if you want to learn more, there are many great tutorials on YouTube"
   ]
  },
  {
   "attachments": {},
   "cell_type": "markdown",
   "metadata": {},
   "source": [
    "---"
   ]
  },
  {
   "attachments": {},
   "cell_type": "markdown",
   "metadata": {},
   "source": [
    "### Installing the Python language\n",
    "\n",
    "##### Standalone Python installation\n",
    "\n",
    "##### Package managers"
   ]
  },
  {
   "attachments": {},
   "cell_type": "markdown",
   "metadata": {},
   "source": [
    "---\n"
   ]
  },
  {
   "attachments": {},
   "cell_type": "markdown",
   "metadata": {},
   "source": [
    "### Installing Git"
   ]
  },
  {
   "attachments": {},
   "cell_type": "markdown",
   "metadata": {},
   "source": [
    "---"
   ]
  },
  {
   "attachments": {},
   "cell_type": "markdown",
   "metadata": {},
   "source": [
    "### Linking our computer to GitHub"
   ]
  }
 ],
 "metadata": {
  "kernelspec": {
   "display_name": "base",
   "language": "python",
   "name": "python3"
  },
  "language_info": {
   "codemirror_mode": {
    "name": "ipython",
    "version": 3
   },
   "file_extension": ".py",
   "mimetype": "text/x-python",
   "name": "python",
   "nbconvert_exporter": "python",
   "pygments_lexer": "ipython3",
   "version": "3.10.8"
  },
  "orig_nbformat": 4,
  "vscode": {
   "interpreter": {
    "hash": "517e84db4b6dcaa5bbb4792b4b12736fd6b06e1018420a4aff003fffbb6a0727"
   }
  }
 },
 "nbformat": 4,
 "nbformat_minor": 2
}
