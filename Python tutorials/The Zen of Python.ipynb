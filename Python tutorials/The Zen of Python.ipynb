{
 "cells": [
  {
   "attachments": {},
   "cell_type": "markdown",
   "metadata": {},
   "source": [
    "# The Zen of Python"
   ]
  },
  {
   "attachments": {},
   "cell_type": "markdown",
   "metadata": {},
   "source": [
    "---"
   ]
  },
  {
   "attachments": {},
   "cell_type": "markdown",
   "metadata": {},
   "source": [
    "In this lesson, we will learn:\n",
    "- how to write beautiful code in Python "
   ]
  },
  {
   "attachments": {},
   "cell_type": "markdown",
   "metadata": {},
   "source": [
    "### Introduction"
   ]
  },
  {
   "attachments": {},
   "cell_type": "markdown",
   "metadata": {},
   "source": [
    "The Zen of Python is a set of guiding principles on the design of Python code. These principles can be printed into the terminal by importing the following module:"
   ]
  },
  {
   "cell_type": "code",
   "execution_count": null,
   "metadata": {},
   "outputs": [],
   "source": [
    "import this"
   ]
  },
  {
   "attachments": {},
   "cell_type": "markdown",
   "metadata": {},
   "source": [
    "It is a good idea to periodically look at these guidelines, especially as you start coding more complicated programmes."
   ]
  },
  {
   "attachments": {},
   "cell_type": "markdown",
   "metadata": {},
   "source": [
    "### The Zen of Python\n"
   ]
  },
  {
   "cell_type": "markdown",
   "metadata": {},
   "source": [
    "by Tim Peters\\\n",
    "\\\n",
    "Beautiful is better than ugly.\\\n",
    "Explicit is better than implicit.\\\n",
    "Simple is better than complex.\\\n",
    "Complex is better than complicated.\\\n",
    "Flat is better than nested.\\\n",
    "Sparse is better than dense.\\\n",
    "Readability counts.\\\n",
    "Special cases aren't special enough to break the rules.\\\n",
    "Although practicality beats purity.\\\n",
    "Errors should never pass silently.\\\n",
    "Unless explicitly silenced.\\\n",
    "In the face of ambiguity, refuse the temptation to guess.\\\n",
    "There should be one-- and preferably only one --obvious way to do it.\\\n",
    "Although that way may not be obvious at first unless you're Dutch.\\\n",
    "Now is better than never.\\\n",
    "Although never is often better than *right* now.\\\n",
    "If the implementation is hard to explain, it's a bad idea.\\\n",
    "If the implementation is easy to explain, it may be a good idea.\\\n",
    "Namespaces are one honking great idea -- let's do more of those!"
   ]
  }
 ],
 "metadata": {
  "kernelspec": {
   "display_name": "Python 3",
   "language": "python",
   "name": "python3"
  },
  "language_info": {
   "codemirror_mode": {
    "name": "ipython",
    "version": 3
   },
   "file_extension": ".py",
   "mimetype": "text/x-python",
   "name": "python",
   "nbconvert_exporter": "python",
   "pygments_lexer": "ipython3",
   "version": "3.11.0 (main, Oct 24 2022, 18:26:48) [MSC v.1933 64 bit (AMD64)]"
  },
  "orig_nbformat": 4,
  "vscode": {
   "interpreter": {
    "hash": "c51ff0908fa3e7b1170d96ccb7b98106d01f30c4033bd7e2c550f2be51ccd79c"
   }
  }
 },
 "nbformat": 4,
 "nbformat_minor": 2
}
