{
 "cells": [
  {
   "attachments": {},
   "cell_type": "markdown",
   "metadata": {},
   "source": [
    "# TensorFlow\n",
    "---"
   ]
  },
  {
   "attachments": {},
   "cell_type": "markdown",
   "metadata": {},
   "source": [
    "In this module, we will learn about the TensorFlow package and how it can be used to build our own machine learning models."
   ]
  },
  {
   "attachments": {},
   "cell_type": "markdown",
   "metadata": {},
   "source": [
    "#### Introduction\n",
    "TensorFlow is a open-source library for machine learning and artificial intelligence. It is maintained by Google.\n"
   ]
  },
  {
   "attachments": {},
   "cell_type": "markdown",
   "metadata": {},
   "source": [
    "Artifical intelligence is anything that automates intellectual tasks which are normally performed by humans/\n",
    "A.I. can be some programme that has a specific set of rules to adapt to certain situations in the way a human would/\n",
    "A.I. has developed into a larger field containing machine learning and neural networks/\n",
    "Whereas A.I. follows a set of rules to automate a task, Machine Learning makes new rules to perform the task/\n",
    "Machine learning therefore needs a lot of data to generate the rules/\n",
    "Because the Machine Learning algorithm finds the rules for us, there can be some accuracy issues/\n",
    "Neural Networks or Deep Learning are a type of Machine Learning that uses layered representations of data/\n",
    "Typically in a Neural Network, there is more than one set of rules between input and output data/\n",
    "Input information is often called the feature/\n",
    "Output information is often called the label/\n",
    "Finding the rules which turns features into labels is called training and requires training data/\n",
    "There are three types of Machine Learning/\n",
    "Supervised learning is when we have features that correspond to a label, allowing us to find the rules/\n",
    "It uses the labels we already have for a feature and checks the rules to see if they match/\n",
    "Unsupervised learning is when we only have features, no labels/\n",
    "This is useful for clustering groups of data, when we don't care how the data is clustered/\n",
    "Reinforcement learning is when we have an agent, an environment, and a reward/\n",
    "The agent aims to complete a task within the environment and if it makes progress it receives a reward/\n",
    "Through maximising it's reward, it finds out how to finish the task/\n",
    "Time to do this can depend on the environment/\n",
    "TensorFlow uses basic math and linear algebra, but more advance stuff is made easier/\n",
    "When you write code in TensorFlow we make a graph/\n",
    "For example, a graph made up of variables can be used to store the sum of the variables, but only really stores the equation of the sum/\n",
    "No actual result is stored in the graph, this is done in a session/\n",
    "A session executes a part of the graph, performing partial computations throughout the graph/\n",
    "To install TensorFlow, use:"
   ]
  },
  {
   "cell_type": "code",
   "execution_count": null,
   "metadata": {},
   "outputs": [],
   "source": [
    "pip install tensorflow\n",
    "import tensorflow as tf"
   ]
  },
  {
   "cell_type": "code",
   "execution_count": null,
   "metadata": {},
   "outputs": [],
   "source": [
    "print(tf.version)"
   ]
  },
  {
   "attachments": {},
   "cell_type": "markdown",
   "metadata": {},
   "source": [
    "A Tensor is a vector (datapoint) generalised to higher dimensions/\n",
    "A vector can have any number of dimensions in it/\n",
    "Tensors are the main object we manipulate in TensorFlow/\n",
    "Each Tensor has a datatype and a shape (what is contained and what dimensions there are)/\n",
    "Make a tensor using:\n"
   ]
  },
  {
   "cell_type": "code",
   "execution_count": null,
   "metadata": {},
   "outputs": [],
   "source": [
    "tf.Variable(3.14, tf.float64)"
   ]
  },
  {
   "attachments": {},
   "cell_type": "markdown",
   "metadata": {},
   "source": [
    "Rank is another word for degree of number of dimensions/\n",
    "A scalar has rank 0/\n",
    "An array of objects has a rank of 1/\n",
    "Find the rank using/"
   ]
  },
  {
   "cell_type": "code",
   "execution_count": null,
   "metadata": {},
   "outputs": [],
   "source": [
    "tf.rank(tensor_name)"
   ]
  },
  {
   "attachments": {},
   "cell_type": "markdown",
   "metadata": {},
   "source": [
    "Find the shape of a tensor using"
   ]
  },
  {
   "cell_type": "code",
   "execution_count": null,
   "metadata": {},
   "outputs": [],
   "source": [
    "tensor_name.shape"
   ]
  },
  {
   "attachments": {},
   "cell_type": "markdown",
   "metadata": {},
   "source": [
    "Returns a value indicating the number of elements in each rank (2,3 for a rank 2 tensor with three items in each dimension)/\n",
    "Shape of a tensor can be changed using:"
   ]
  },
  {
   "cell_type": "code",
   "execution_count": null,
   "metadata": {},
   "outputs": [],
   "source": [
    "tf.reshape(tensor_name, [shape])"
   ]
  },
  {
   "attachments": {},
   "cell_type": "markdown",
   "metadata": {},
   "source": [
    "If you put negative one as one of the shapes, it fills the blank/\n",
    "There are different types of Tensors: Variable, Constant, Placeholder, SparseTensor/\n",
    "Only the Variable Tensor can change/\n",
    "Evaluating tensors can be done by crating a session:/"
   ]
  },
  {
   "cell_type": "code",
   "execution_count": null,
   "metadata": {},
   "outputs": [],
   "source": [
    "with tf.Session() as sess:\n",
    "    tensor_name.eval()"
   ]
  },
  {
   "attachments": {},
   "cell_type": "markdown",
   "metadata": {},
   "source": [
    "There are certain algorithms that are needed to use TensorFlow/\n",
    "These are Linear Regression, Classification, Clustering, and Hidden Markov Models/\n",
    "Linear Regression finds a linear correspondence between data points/\n",
    "THis then allows us to predict some value based on a line of best fit/\n",
    "This is easy to consider with two-dimensional Tensors (x and y), but can be useful for more complicated dimesnionalities/\n",
    "Linear regression aims to be as close to every data point as every other data point, and also to spit data evenly on either side of the line/\n",
    "In a higher dimension system (say 3D), knowing all but one variable of the equation for the line of best fin allows you to calculate the other/\n",
    "Linear in this sense means that something increases or decreases when something else increases or decreases/\n",
    "\n",
    "To use linear regression, you need to start:"
   ]
  },
  {
   "cell_type": "code",
   "execution_count": null,
   "metadata": {},
   "outputs": [],
   "source": [
    "pip install sklearn\n",
    "\n",
    "from __future__ import absolute_import, division, print_function, unicode_literals\n",
    "import numpy as np\n",
    "import pandas as pd\n",
    "import matplotlib.pyplot as plt\n",
    "from IPython.display import clear_output\n",
    "from six.moves import urllib\n",
    "\n",
    "import tensorflow.compat.v2.feature_column as fc\n",
    "import tensorflow as tf"
   ]
  },
  {
   "attachments": {},
   "cell_type": "markdown",
   "metadata": {},
   "source": [
    "We can test using data from the titanic to predict who would survive\n"
   ]
  },
  {
   "cell_type": "code",
   "execution_count": null,
   "metadata": {},
   "outputs": [],
   "source": [
    "dftrain = pd.read_csv('https://storage.googleapis.com/tf-datasets/titanic/train.csv') # training data\n",
    "dfeval = pd.read_csv('https://storage.googleapis.com/tf-datasets/titanic/eval.csv') # testing data\n",
    "y_train = dftrain.pop('survived')\n",
    "y_eval = dfeval.pop('survived')"
   ]
  },
  {
   "attachments": {},
   "cell_type": "markdown",
   "metadata": {},
   "source": [
    "Here we take csv data of the titanic survivors (one for training and one for testing), and then remove the label(outputs) from the features (inputs)/\n",
    "There are feature columns which can be composed of numerical or categorical data (not numeric)/\n",
    "Categorical data needs to be encoded into an integer value"
   ]
  },
  {
   "cell_type": "code",
   "execution_count": null,
   "metadata": {},
   "outputs": [],
   "source": [
    "dftrain[feature_name].unique()"
   ]
  },
  {
   "attachments": {},
   "cell_type": "markdown",
   "metadata": {},
   "source": [
    "This returns all the unique categorical features in a column called feature_name/\n",
    "This can be used alongside:"
   ]
  },
  {
   "cell_type": "code",
   "execution_count": null,
   "metadata": {},
   "outputs": [],
   "source": [
    "tf.feature_column.numeric_column_with_vocabulary_list(feature_name, dftrain[feature_name].unique())"
   ]
  },
  {
   "attachments": {},
   "cell_type": "markdown",
   "metadata": {},
   "source": [
    "to make a feature column out of all possible features\n",
    "/\n",
    "Train a model by feeding data, loading in batches if we have large datas/\n",
    "Epochs are feeding the same data in a different order to get a better prediction/\n",
    "However, it is possible to overfit training data, to the point where the algorithm just learns the data points off by heart/\n",
    "Avoid this by slowly increasing the number of epochs/\n",
    "\n",
    "An input function allows us to describe how we will feed data into our model/\n",
    "Need to make a tf.data.Dataset object out of our data base for the model to work/"
   ]
  },
  {
   "cell_type": "code",
   "execution_count": null,
   "metadata": {},
   "outputs": [],
   "source": [
    "def make_input_fn(data_df, label_df, num_epochs=10, shuffle=True, batch_size=32):\n",
    "    def input_function():  # inner function, this will be returned\n",
    "        ds = tf.data.Dataset.from_tensor_slices((dict(data_df), label_df))  # create tf.data.Dataset object with data and its label\n",
    "        if shuffle:\n",
    "            ds = ds.shuffle(1000)  # randomize order of data\n",
    "        ds = ds.batch(batch_size).repeat(num_epochs)  # split dataset into batches of 32 and repeat process for number of epochs\n",
    "        return ds  # return a batch of the dataset\n",
    "    return input_function  # return a function object for use\n",
    "\n",
    "train_input_fn = make_input_fn(dftrain, y_train)  # here we will call the input_function that was returned to us to get a dataset object we can feed to the model\n",
    "eval_input_fn = make_input_fn(dfeval, y_eval, num_epochs=1, shuffle=False)"
   ]
  },
  {
   "attachments": {},
   "cell_type": "markdown",
   "metadata": {},
   "source": [
    "The model can be created using:"
   ]
  },
  {
   "cell_type": "code",
   "execution_count": null,
   "metadata": {},
   "outputs": [],
   "source": [
    "linear_est = tf.estimator.LinearClassifier(feature_columns=feature_columns)"
   ]
  },
  {
   "attachments": {},
   "cell_type": "markdown",
   "metadata": {},
   "source": [
    "The model can then be trained using"
   ]
  },
  {
   "cell_type": "code",
   "execution_count": null,
   "metadata": {},
   "outputs": [],
   "source": [
    "linear_est.train(train_input_fn)  # train\n",
    "result = linear_est.evaluate(eval_input_fn)  # get model metrics/stats by testing on tetsing data\n",
    "clear_output()"
   ]
  },
  {
   "attachments": {},
   "cell_type": "markdown",
   "metadata": {},
   "source": [
    "You can access facts about the result by referencing it in dictionary format (result['accuracy'])/\n",
    "You would change epochs to acheive the best model with highest accuracy/\n",
    "We can predict using:"
   ]
  },
  {
   "cell_type": "code",
   "execution_count": null,
   "metadata": {},
   "outputs": [],
   "source": [
    "result = list(linear_est.predict(eval_input_fn))"
   ]
  }
 ],
 "metadata": {
  "kernelspec": {
   "display_name": "Python 3",
   "language": "python",
   "name": "python3"
  },
  "language_info": {
   "name": "python",
   "version": "3.11.0 (main, Oct 24 2022, 18:26:48) [MSC v.1933 64 bit (AMD64)]"
  },
  "orig_nbformat": 4,
  "vscode": {
   "interpreter": {
    "hash": "c51ff0908fa3e7b1170d96ccb7b98106d01f30c4033bd7e2c550f2be51ccd79c"
   }
  }
 },
 "nbformat": 4,
 "nbformat_minor": 2
}
